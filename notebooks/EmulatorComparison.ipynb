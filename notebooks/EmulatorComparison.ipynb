{
 "cells": [
  {
   "cell_type": "markdown",
   "metadata": {},
   "source": [
    "Compare speed and accuracy of different emulators for quick likelihood evaluation."
   ]
  },
  {
   "cell_type": "code",
   "execution_count": 1,
   "metadata": {},
   "outputs": [],
   "source": [
    "params = {\n",
    "    'omega_matter'  :  0.315,\n",
    "    'sigma8'        :  0.83,\n",
    "    'omega_baryon'  :  0.05,\n",
    "    'ns'            :  0.96,\n",
    "    'hubble'        :  0.67,\n",
    "    'neutrino_mass' :  0.0,\n",
    "    'w0'            : -1.0,\n",
    "    'wa'            :  0.0,\n",
    "    'expfactor'     :  1\n",
    "}"
   ]
  },
  {
   "cell_type": "code",
   "execution_count": 2,
   "metadata": {},
   "outputs": [
    {
     "name": "stdout",
     "output_type": "stream",
     "text": [
      "Loading linear emulator...\n",
      "WARNING:tensorflow:SavedModel saved prior to TF 2.5 detected when loading Keras model. Please ensure that you are saving the model with model.save() or tf.keras.models.save_model(), *NOT* tf.saved_model.save(). To confirm, there should be a file named \"keras_metadata.pb\" in the SavedModel directory.\n",
      "Linear emulator loaded in memory.\n",
      "Loading non-linear emulator...\n",
      "WARNING:tensorflow:SavedModel saved prior to TF 2.5 detected when loading Keras model. Please ensure that you are saving the model with model.save() or tf.keras.models.save_model(), *NOT* tf.saved_model.save(). To confirm, there should be a file named \"keras_metadata.pb\" in the SavedModel directory.\n"
     ]
    },
    {
     "name": "stderr",
     "output_type": "stream",
     "text": [
      "/home/tkarim/anaconda3/lib/python3.8/site-packages/sklearn/base.py:329: UserWarning: Trying to unpickle estimator StandardScaler from version 0.22.2.post1 when using version 0.23.1. This might lead to breaking code or invalid results. Use at your own risk.\n",
      "  warnings.warn(\n"
     ]
    },
    {
     "name": "stdout",
     "output_type": "stream",
     "text": [
      "Nonlinear emulator loaded in memory.\n",
      "Loading Baryonic Emulator...\n",
      "WARNING:tensorflow:SavedModel saved prior to TF 2.5 detected when loading Keras model. Please ensure that you are saving the model with model.save() or tf.keras.models.save_model(), *NOT* tf.saved_model.save(). To confirm, there should be a file named \"keras_metadata.pb\" in the SavedModel directory.\n",
      "Baryonic Emulator loaded in memory.\n"
     ]
    },
    {
     "name": "stderr",
     "output_type": "stream",
     "text": [
      "/home/tkarim/anaconda3/lib/python3.8/site-packages/sklearn/base.py:329: UserWarning: Trying to unpickle estimator StandardScaler from version 0.23.2 when using version 0.23.1. This might lead to breaking code or invalid results. Use at your own risk.\n",
      "  warnings.warn(\n",
      "/home/tkarim/anaconda3/lib/python3.8/site-packages/sklearn/base.py:329: UserWarning: Trying to unpickle estimator PCA from version 0.23.2 when using version 0.23.1. This might lead to breaking code or invalid results. Use at your own risk.\n",
      "  warnings.warn(\n"
     ]
    }
   ],
   "source": [
    "import baccoemu #https://bacco.dipc.org/baccoemu_docs/index.html#quickstart\n",
    "emulator = baccoemu.Matter_powerspectrum()"
   ]
  },
  {
   "cell_type": "code",
   "execution_count": 3,
   "metadata": {},
   "outputs": [],
   "source": [
    "k, Q = emulator.get_nonlinear_boost(params)\n",
    "k, pk = emulator.get_linear_pk(params, k=k)\n",
    "k, pknl = emulator.get_nonlinear_pk(params, baryonic_boost=False)"
   ]
  },
  {
   "cell_type": "code",
   "execution_count": 4,
   "metadata": {},
   "outputs": [],
   "source": [
    "import matplotlib.pyplot as plt"
   ]
  },
  {
   "cell_type": "code",
   "execution_count": 5,
   "metadata": {},
   "outputs": [
    {
     "data": {
      "text/plain": [
       "<matplotlib.legend.Legend at 0x7fad946072e0>"
      ]
     },
     "execution_count": 5,
     "metadata": {},
     "output_type": "execute_result"
    },
    {
     "data": {
      "image/png": "[encoded data removed]",
      "text/plain": [
       "<Figure size 432x288 with 1 Axes>"
      ]
     },
     "metadata": {
      "needs_background": "light"
     },
     "output_type": "display_data"
    }
   ],
   "source": [
    "plt.loglog(k, Q, label = 'Non-lin boost factor')\n",
    "plt.loglog(k, pk, label = 'Lin P(k)')\n",
    "plt.loglog(k, pknl, label = 'Nonlin P(k)')\n",
    "plt.legend(loc = 'best')"
   ]
  },
  {
   "cell_type": "code",
   "execution_count": 6,
   "metadata": {},
   "outputs": [
    {
     "name": "stdout",
     "output_type": "stream",
     "text": [
      "CPU times: user 55.8 ms, sys: 15.1 ms, total: 70.8 ms\n",
      "Wall time: 77.6 ms\n"
     ]
    }
   ],
   "source": [
    "%time k, pknl = emulator.get_nonlinear_pk(params, baryonic_boost=False)"
   ]
  },
  {
   "cell_type": "code",
   "execution_count": 7,
   "metadata": {},
   "outputs": [],
   "source": [
    "#import skylens default power spectra\n",
    "from skylens.power_spectra import *\n",
    "from astropy.cosmology import Planck15 as planck15"
   ]
  },
  {
   "cell_type": "code",
   "execution_count": 8,
   "metadata": {},
   "outputs": [],
   "source": [
    "params_skylens = {\n",
    "    'Om'            : params['omega_matter'],\n",
    "    'Omd'           : params['omega_matter'] - params['omega_baryon'],\n",
    "    'sigma8'        : 0.83,\n",
    "    'Omb'           : params['omega_baryon'],\n",
    "    'ns'            : 0.96,\n",
    "    'h'             : params['hubble'],\n",
    "    'mnu'           : params['neutrino_mass'],\n",
    "    'w'             : params['w0'],\n",
    "    'wa'            : 0.0,\n",
    "    'expfactor'     : 1,\n",
    "    'T_cmb'         : planck15.Tcmb0.value,\n",
    "    'Neff'          : planck15.Neff,\n",
    "    'tau'           : 0.06 #FIXME skylens\n",
    "}\n",
    "\n",
    "pk_params = {'non_linear':1,\n",
    "             'kmax':30,\n",
    "             'kmin':3.e-4,\n",
    "             'nk':500,\n",
    "             'scenario':'dmo',\n",
    "             'pk_func':emulator.get_nonlinear_pk,\n",
    "             'halofit_version':'takahashi'}"
   ]
  },
  {
   "cell_type": "code",
   "execution_count": null,
   "metadata": {},
   "outputs": [],
   "source": [
    "def baccoemu_pk(z,cosmo_params=None,pk_params=None,return_s8=False):\n",
    "    k, pknl = emulator.get_nonlinear_pk(coordinates=cosmo_params, baryonic_boost=False)\n",
    "    \n",
    "    return pknlh3, kh"
   ]
  },
  {
   "cell_type": "code",
   "execution_count": 15,
   "metadata": {},
   "outputs": [
    {
     "name": "stdout",
     "output_type": "stream",
     "text": [
      "CPU times: user 8.88 s, sys: 2.52 ms, total: 8.88 s\n",
      "Wall time: 609 ms\n"
     ]
    }
   ],
   "source": [
    "%time kcamb, pkcamb = baccoemu.matter_powerspectrum.compute_camb_pk(params)"
   ]
  },
  {
   "cell_type": "markdown",
   "metadata": {},
   "source": [
    "# EuclidEmulator2"
   ]
  },
  {
   "cell_type": "code",
   "execution_count": 40,
   "metadata": {},
   "outputs": [],
   "source": [
    "import euclidemu2 as ee2\n",
    "import numpy as np"
   ]
  },
  {
   "cell_type": "code",
   "execution_count": 41,
   "metadata": {},
   "outputs": [],
   "source": [
    "cosmo_par = {'As':2.1e-09, 'ns':0.966, 'Omb':0.04, 'Omm':0.3, 'h':0.68, 'mnu':0.15, 'w':-1.0, 'wa':0.0}"
   ]
  },
  {
   "cell_type": "code",
   "execution_count": 42,
   "metadata": {},
   "outputs": [],
   "source": [
    "redshifts = [0]\n",
    "k, b = ee2.get_boost(cosmo_par,redshifts)"
   ]
  },
  {
   "cell_type": "code",
   "execution_count": 55,
   "metadata": {},
   "outputs": [
    {
     "name": "stdout",
     "output_type": "stream",
     "text": [
      "Warning:\n",
      "EuclidEmulator2 emulates the non-linear correction in \n",
      "the interval [8.73e-3 h/Mpc, 9.41h/Mpc]. You are \n",
      "requesting k modes beyond k_max = 9.41h/Mpc. \n",
      "Higher k modes constantly extrapolated.\n",
      "Warning:\n",
      "EuclidEmulator2 emulates the non-linear correction in \n",
      "the interval [8.73e-3 h/Mpc, 9.41h/Mpc]. You are \n",
      "requesting k modes below k_min = 8.73e-3 h/Mpc. \n",
      "Lower k modes constantly extrapolated.\n"
     ]
    }
   ],
   "source": [
    "k_custom = np.geomspace(1e-3,10,1000)\n",
    "k, b = ee2.get_boost(cosmo_par,redshifts,k_custom)"
   ]
  },
  {
   "cell_type": "code",
   "execution_count": 51,
   "metadata": {},
   "outputs": [],
   "source": [
    "k, pnl, plin, b = ee2.get_pnonlin(cosmo_par, redshifts, k_custom)"
   ]
  },
  {
   "cell_type": "code",
   "execution_count": 52,
   "metadata": {},
   "outputs": [
    {
     "data": {
      "text/plain": [
       "(1000,)"
      ]
     },
     "execution_count": 52,
     "metadata": {},
     "output_type": "execute_result"
    }
   ],
   "source": [
    "k.shape"
   ]
  },
  {
   "cell_type": "code",
   "execution_count": 53,
   "metadata": {},
   "outputs": [
    {
     "data": {
      "text/plain": [
       "<matplotlib.legend.Legend at 0x7fe148087040>"
      ]
     },
     "execution_count": 53,
     "metadata": {},
     "output_type": "execute_result"
    },
    {
     "data": {
      "image/png": "[encoded data removed]",
      "text/plain": [
       "<Figure size 432x288 with 1 Axes>"
      ]
     },
     "metadata": {
      "needs_background": "light"
     },
     "output_type": "display_data"
    }
   ],
   "source": [
    "plt.loglog(k, plin[0], label = 'Lin')\n",
    "plt.loglog(k, pnl[0], label = 'Non-lin')\n",
    "plt.legend(loc = 'best')"
   ]
  },
  {
   "cell_type": "code",
   "execution_count": 54,
   "metadata": {},
   "outputs": [
    {
     "name": "stdout",
     "output_type": "stream",
     "text": [
      "CPU times: user 5.53 s, sys: 180 ms, total: 5.71 s\n",
      "Wall time: 384 ms\n"
     ]
    }
   ],
   "source": [
    "%time k, pnl, plin, b = ee2.get_pnonlin(cosmo_par, redshifts, k_custom)"
   ]
  },
  {
   "cell_type": "code",
   "execution_count": null,
   "metadata": {},
   "outputs": [],
   "source": []
  }
 ],
 "metadata": {
  "kernelspec": {
   "display_name": "Python 3",
   "language": "python",
   "name": "python3"
  },
  "language_info": {
   "codemirror_mode": {
    "name": "ipython",
    "version": 3
   },
   "file_extension": ".py",
   "mimetype": "text/x-python",
   "name": "python",
   "nbconvert_exporter": "python",
   "pygments_lexer": "ipython3",
   "version": "3.8.3"
  }
 },
 "nbformat": 4,
 "nbformat_minor": 4
}
