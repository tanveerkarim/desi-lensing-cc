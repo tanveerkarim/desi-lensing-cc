{
 "cells": [
  {
   "cell_type": "code",
   "execution_count": 1,
   "metadata": {},
   "outputs": [],
   "source": [
    "import sys\n",
    "# import pyccl as ccl#\n",
    "import pickle\n",
    "import camb\n",
    "import matplotlib.pyplot as plt\n",
    "sys.path.insert(0,'/home/tkarim/SkyLens/') #path to skylens\n",
    "sys.path.insert(0,'/home/tkarim/SkyLens/skylens/') #path to skylens\n",
    "# from importlib import reload"
   ]
  },
  {
   "cell_type": "code",
   "execution_count": 2,
   "metadata": {},
   "outputs": [],
   "source": [
    "#setting up virtual dask cluster for calculations. Adjust memory and threads according to your system.\n",
    "from distributed import LocalCluster\n",
    "from dask.distributed import Client \n",
    "#http://distributed.readthedocs.io/en/latest/_modules/distributed/worker.html\n",
    "c=LocalCluster(n_workers=1,processes=False,memory_limit='150gb',threads_per_worker=4,memory_spill_fraction=.99,\n",
    "               memory_monitor_interval='2000ms')\n",
    "client=Client(c)"
   ]
  },
  {
   "cell_type": "code",
   "execution_count": 3,
   "metadata": {},
   "outputs": [],
   "source": [
    "from skylens import *\n",
    "from survey_utils import *"
   ]
  },
  {
   "cell_type": "code",
   "execution_count": 4,
   "metadata": {},
   "outputs": [],
   "source": [
    "#only for python3\n",
    "import importlib\n",
    "reload=importlib.reload"
   ]
  },
  {
   "cell_type": "code",
   "execution_count": 5,
   "metadata": {},
   "outputs": [],
   "source": [
    "wigner_files={} #FIXME: run Gen_wig_m0.py to generate these files and then pass their path here. These are large files, make sure they are not included in git.\n",
    "# In file names l3500 refers to ell_max for which wigner function was calculated. It should be same or larger than ell_max in your measurements. \n",
    "# |w2100 is the max ell for window. This should be atleast 2 X ell_max in the measurements.\n",
    "wigner_files[0]= '../temp/dask_wig3j_l1500_w2100_0_reorder.zarr'\n",
    "\n",
    "# wigner_files[2]= '/Users/Deep/dask_temp/dask_wig3j_l3500_w2100_2_reorder.zarr' #everything is spin 0, should not require this. if needed, compute using Gen_wig_m2.py\n",
    "\n"
   ]
  },
  {
   "cell_type": "markdown",
   "metadata": {},
   "source": [
    "# Power Spectrum covariance"
   ]
  },
  {
   "cell_type": "code",
   "execution_count": 6,
   "metadata": {},
   "outputs": [],
   "source": [
    "#set cosmology neutrinoless\n",
    "\"\"\"cosmo_params = {'h': 0.6736,\n",
    " 'Omb': 0.04930,\n",
    " 'Omd': 0.26447,\n",
    " 's8': 0.817,\n",
    " 'Om': 0.31377,\n",
    " 'Ase9': 2.0417,\n",
    " 'mnu': 0.00,\n",
    " 'Omk': 0.0,\n",
    " 'tau': 0.06,\n",
    " 'ns': 0.9649,\n",
    " 'w': -1,\n",
    " 'wa': 0,\n",
    " 'Oml': 0.68623}\"\"\"\n",
    "\n",
    "cosmo_params = {\n",
    "'omega_b' : 0.02237,\n",
    "'omega_cdm' : 0.12,\n",
    "'h' : 0.6736,\n",
    "'A_s' : 2.0417e-09,\n",
    "'n_s' : 0.9649,\n",
    "'alpha_s' : 0.0,\n",
    "'N_ur' : 3.046,\n",
    "'N_ncdm' : 0.0,\n",
    "'omega_ncdm' : 0.0,\n",
    "'w0_fld' : -1.0,\n",
    "'wa_fld' : 0.0}"
   ]
  },
  {
   "cell_type": "code",
   "execution_count": 6,
   "metadata": {},
   "outputs": [],
   "source": [
    "#set cosmology\n",
    "cosmo_params = {'h': 0.6736,\n",
    " 'Omb': 0.04930,\n",
    " 'Omd': 0.26447,\n",
    " 's8': 0.817,\n",
    " 'Om': 0.31377,\n",
    " 'Ase9': 2.083,\n",
    " 'mnu': 0.06,\n",
    " 'Omk': 0.0,\n",
    " 'tau': 0.06,\n",
    " 'ns': 0.9649,\n",
    " 'w': -1,\n",
    " 'wa': 0,\n",
    " 'Oml': 0.68623}"
   ]
  },
  {
   "cell_type": "code",
   "execution_count": 7,
   "metadata": {},
   "outputs": [],
   "source": [
    "#setup parameters\n",
    "#FIXME: Check all the values below.\n",
    "lmax_cl=1024 #min and max for ell\n",
    "lmin_cl=100\n",
    "l0=np.arange(lmin_cl,lmax_cl)\n",
    "\n",
    "#following defines the ell bins. Using log bins in example, feel free to change.\n",
    "lmin_cl_Bins=lmin_cl+10\n",
    "lmax_cl_Bins=lmax_cl-10\n",
    "Nl_bins=20\n",
    "#l_bins=np.int64(np.logspace(np.log10(lmin_cl_Bins),np.log10(lmax_cl_Bins),Nl_bins))\n",
    "l_bins = np.arange(lmin_cl, lmax_cl, 100)\n",
    "#lb=np.sqrt(l_bins[1:]*l_bins[:-1])\n",
    "lb=0.5*(l_bins[1:]+l_bins[:-1])\n",
    "\n",
    "l=l0\n",
    "# l=np.unique(np.int64(np.logspace(np.log10(lmin_cl),np.log10(lmax_cl),Nl_bins*20))) #if computation is too heavy and we want to use fewer ell\n",
    "\n",
    "do_cov=False # if you want to get covariance. Covariance is slow and this should be false if you are calling skylens inside mcmc.\n",
    "bin_cl=True #bin the theory and covaraince. \n",
    "\n",
    "use_window=True #if you want to include the window effect. Code will return pseudo-cl and pseudo-cl covariance\n",
    "store_win=True # to store window, for some internal reasons. leave it to true.\n",
    "window_lmax=2*lmax_cl #smaller value for testing. This should be 2X ell_max in the measurements.\n",
    "\n",
    "use_binned_l=False  #FIXME: to speed up computation if using pseudo-cl inside mcmc. Needs to be tested. Leave it false for now.\n",
    "\n",
    "SSV_cov=False # we donot have good model for super sample and tri-spectrum. We can chat about implementing some approximate analytical forms.\n",
    "tidal_SSV_cov=False\n",
    "Tri_cov=False \n",
    "\n",
    "bin_xi=True\n",
    "theta_bins=np.logspace(np.log10(1./60),1,20)"
   ]
  },
  {
   "cell_type": "code",
   "execution_count": 8,
   "metadata": {},
   "outputs": [],
   "source": [
    "def cmb_bins_here(zs=1090,l=None,use_window=use_window,unit_win=False,nside=1024,zmax=2.45):\n",
    "    \"\"\"\n",
    "    unit_win = boolean mask \n",
    "    nside = 2048; same as sims\n",
    "    This function prepares the cmb lensing data into format required for input into skylens for theory predictions.\n",
    "    \"\"\"\n",
    "    zs_bins={}\n",
    "    zs_bins[0]={}\n",
    "\n",
    "    zs_bins=zbin_pz_norm(zs_bins=zs_bins,bin_indx=0,zs=np.atleast_1d(zs),p_zs=np.atleast_1d(1),\n",
    "                         ns=0,bg1=1)\n",
    "    zs_bins['n_bins']=1 #easy to remember the counts\n",
    "    zs_bins['zmax']=np.atleast_1d([zmax])\n",
    "    zs_bins['zp_sigma']=0\n",
    "    zs_bins['zp_bias']=0\n",
    "    zs_bins['nz']=0\n",
    "\n",
    "    SN_read=np.genfromtxt('/mnt/store1/tkarim/cmb_lensing/data/MV/nlkk.dat',\n",
    "                          names=('l','nl','nl2')) \n",
    "    SN_intp=interp1d(SN_read['l'],SN_read['nl'],bounds_error=False, fill_value=0)      #FIXME: make sure using the correct noise power spectra.\n",
    "    SN=SN_intp(l)\n",
    "    SN *= 0 #DON'T DO THIS WHEN USING REAL DATA\n",
    "#     SN=np.ones_like(l)\n",
    "    zs_bins['SN']={}\n",
    "    zs_bins['SN']['kappa']=SN.reshape(len(SN),1,1)\n",
    "    if use_window:\n",
    "        zs_bins=set_window(zs_bins=zs_bins,nside=nside, unit_win=unit_win,cmb=True)\n",
    "    return zs_bins"
   ]
  },
  {
   "cell_type": "code",
   "execution_count": 24,
   "metadata": {},
   "outputs": [],
   "source": [
    "def set_window(zs_bins={},nside=1024,mask=None,window_cl_fact=None,unit_win=False,cmb=False):\n",
    "    \"\"\"\n",
    "        This function sets the window functions for the datasets. These windows are necessary for converting cl to pseudo-cl.\n",
    "    \"\"\"\n",
    "    #FIXME: make sure nside, etc. are properly matched. if possible, use same nside for cmb and galaxy maps. Use ud_grade where necessary.\n",
    "    for i in np.arange(zs_bins['n_bins']):\n",
    "        if unit_win:\n",
    "            cl_map=hp.ma(np.ones(12*nside*nside))\n",
    "            cl_i=1\n",
    "        elif cmb:\n",
    "            #cl_map=np.load('/mnt/store1/tkarim/mask_2048.fits') #FIXME: add the CMB lensing window here.\n",
    "            cl_map=np.load('/mnt/store1/boryanah/AbacusSummit_base_c000_ph006/light_cones/mask_ring_2048.npy')\n",
    "            #mask = cl_map\n",
    "        else:\n",
    "            #cl_map=np.load('/mnt/store1/tkarim/cmb_lensing/data/dr8/elg_ran1024.npy') #randoms are the window function.\n",
    "            cl_map=np.load('/mnt/store1/boryanah/AbacusSummit_base_c000_ph006/light_cones/mask_ring_2048.npy') #randoms are the window function.\n",
    "        cl_map = cl_map.astype(np.float64)\n",
    "        cl_map=hp.ma(cl_map)\n",
    "#             cl_map=hp.alm2map(alms_i,nside=nside)\n",
    "        if mask is None:\n",
    "            mask=cl_map>0 #FIXME: input proper mask if possible\n",
    "        cl_map.mask=~mask\n",
    "        #cl_map.mask=np.logical_not(mask) #same as previous line but for fits files via healpy\n",
    "        cl_map[cl_map<0]=0\n",
    "        cl_map/=cl_map[mask].mean()\n",
    "        cl_map_noise=np.sqrt(cl_map)\n",
    "        cl_map[~mask]=hp.UNSEEN\n",
    "        cl_map_noise[~mask]=hp.UNSEEN\n",
    "        # cl_map.mask=mask\n",
    "        zs_bins[i]['window']=cl_map\n",
    "        zs_bins[i]['window_alm']=hp.map2alm(cl_map)\n",
    "        zs_bins[i]['window_alm_noise']=hp.map2alm(cl_map_noise)\n",
    "#         zs_bins[i]['window_cl']=cl_i\n",
    "\n",
    "    return zs_bins"
   ]
  },
  {
   "cell_type": "code",
   "execution_count": 10,
   "metadata": {},
   "outputs": [],
   "source": [
    "def zbin_pz_norm(zs_bins={},bin_indx=None,zs=None,p_zs=None,ns=0,bg1=1,AI=0,\n",
    "                 AI_z=0,mag_fact=0,k_max=0.3):\n",
    "    \"\"\"\n",
    "        This function does few pre-calculations and sets some parameters for datasets that will be input into skylens\n",
    "    \"\"\"\n",
    "\n",
    "\n",
    "    dzs=np.gradient(zs) if len(zs)>1 else 1\n",
    "\n",
    "    if np.sum(p_zs*dzs)!=0:\n",
    "        p_zs=p_zs/np.sum(p_zs*dzs)\n",
    "    else:\n",
    "        p_zs*=0\n",
    "    nz=dzs*p_zs*ns\n",
    "\n",
    "    i=bin_indx\n",
    "    x= p_zs>-1 #1.e-10\n",
    "\n",
    "    zs_bins[i]['z']=zs[x]\n",
    "    zs_bins[i]['dz']=np.gradient(zs_bins[i]['z']) if len(zs_bins[i]['z'])>1 else 1\n",
    "    zs_bins[i]['nz']=nz[x]\n",
    "    zs_bins[i]['ns']=ns\n",
    "    zs_bins[i]['W']=1.\n",
    "    zs_bins[i]['pz']=p_zs[x]*zs_bins[i]['W']\n",
    "    zs_bins[i]['pzdz']=zs_bins[i]['pz']*zs_bins[i]['dz']\n",
    "    zs_bins[i]['Norm']=np.sum(zs_bins[i]['pzdz'])\n",
    "    zs_bins[i]['b1']=bg1 # FIXME: this is the linear galaxy bias. Input proper values. We can also talk about adding other bias models if needed.\n",
    "    zs_bins[i]['AI']=AI # this will be zero\n",
    "    zs_bins[i]['AI_z']=AI_z\n",
    "    zs_bins[i]['mag_fact']=mag_fact  #FIXME: You need to figure out the magnification bias prefactor. For example, see appendix B of https://arxiv.org/pdf/1803.08915.pdf\n",
    "    zs_bins[i]['shear_m_bias']=1\n",
    "    zm=np.sum(zs_bins[i]['z']*zs_bins[i]['pzdz'])/zs_bins[i]['Norm']\n",
    "    zs_bins[i]['lm']=k_max*cosmo_h.comoving_transverse_distance(zm).value\n",
    "    return zs_bins"
   ]
  },
  {
   "cell_type": "code",
   "execution_count": 11,
   "metadata": {},
   "outputs": [],
   "source": [
    "def source_tomo_bins(zp=None,p_zp=None,nz_bins=None,ns=26,ztrue_func=None,zp_bias=None,\n",
    "                    zp_sigma=None,zs=None,n_zs=100,z_bins=None,f_sky=0.3,nside=256,use_window=False,\n",
    "                    mask_start_pix=0,window_cl_fact=None,bg1=1,AI=0,AI_z=0,l=None,mag_fact=0,\n",
    "                     sigma_gamma=0.26,k_max=0.3,unit_win=False,use_shot_noise=True,**kwargs):\n",
    "    \"\"\"\n",
    "        Setting galaxy redshift bins in the format used in skylens code.\n",
    "        Need\n",
    "        zs (array): redshift bins for every source bin. if z_bins is none, then dictionary with\n",
    "                    with values for each bin\n",
    "        p_zs: redshift distribution. same format as zs\n",
    "        z_bins: if zs and p_zs are for whole survey, then bins to divide the sample. If\n",
    "                tomography is based on lens redshift, then this arrays contains those redshifts.\n",
    "        ns: The number density for each bin to compute shape noise.\n",
    "    \"\"\"\n",
    "    zs_bins={}\n",
    "\n",
    "    if nz_bins is None:\n",
    "        nz_bins=1\n",
    "\n",
    "    if z_bins is None:\n",
    "        z_bins=np.linspace(min(zp)-0.0001,max(zp)+0.0001,nz_bins+1)\n",
    "    if zs is None:\n",
    "        zs=np.linspace(0,max(z_bins)+1,n_zs)\n",
    "    dzs=np.gradient(zs)\n",
    "    dzp=np.gradient(zp) if len(zp)>1 else [1]\n",
    "    zp=np.array(zp)\n",
    "\n",
    "    zl_kernel=np.linspace(0,max(zs),50)\n",
    "    lu=Tracer_utils()\n",
    "    cosmo_h=cosmo_h_PL\n",
    "\n",
    "    zmax=max(z_bins)\n",
    "\n",
    "    l=[1] if l is None else l\n",
    "    zs_bins['SN']={}\n",
    "    zs_bins['SN']['galaxy']=np.zeros((len(l),nz_bins,nz_bins))\n",
    "    zs_bins['SN']['shear']=np.zeros((len(l),nz_bins,nz_bins))\n",
    "    zs_bins['SN']['kappa']=np.zeros((len(l),nz_bins,nz_bins))\n",
    "\n",
    "    for i in np.arange(nz_bins):\n",
    "        zs_bins[i]={}\n",
    "        indx=zp.searchsorted(z_bins[i:i+2])\n",
    "\n",
    "        if indx[0]==indx[1]:\n",
    "            indx[1]=-1\n",
    "        zs=zp[indx[0]:indx[1]]\n",
    "        p_zs=p_zp[indx[0]:indx[1]]\n",
    "        nz=ns*p_zs*dzp[indx[0]:indx[1]]\n",
    "        ns_i=nz.sum()\n",
    "\n",
    "        zs_bins=zbin_pz_norm(zs_bins=zs_bins,bin_indx=i,zs=zs,p_zs=p_zs,ns=ns_i,bg1=bg1,\n",
    "                             AI=AI,AI_z=AI_z,mag_fact=mag_fact,k_max=k_max)\n",
    "        \n",
    "        zmax=max([zmax,max(zs_bins[i]['z'])])\n",
    "        if use_shot_noise:\n",
    "            zs_bins['SN']['galaxy'][:,i,i]=galaxy_shot_noise_calc(zg1=zs_bins[i],zg2=zs_bins[i])\n",
    "            zs_bins['SN']['shear'][:,i,i]=shear_shape_noise_calc(zs1=zs_bins[i],zs2=zs_bins[i],\n",
    "                                                                 sigma_gamma=sigma_gamma)\n",
    "            zs_bins['SN']['kappa'][:,i,i]=shear_shape_noise_calc(zs1=zs_bins[i],zs2=zs_bins[i],\n",
    "                                                                 sigma_gamma=sigma_gamma) #FIXME: This is almost certainly not correct\n",
    "\n",
    "    zs_bins['n_bins']=nz_bins #easy to remember the counts\n",
    "    zs_bins['z_lens_kernel']=zl_kernel\n",
    "    zs_bins['zmax']=zmax\n",
    "    zs_bins['zp']=zp\n",
    "    zs_bins['pz']=p_zp\n",
    "    zs_bins['z_bins']=z_bins\n",
    "    zs_bins['zp_sigma']=zp_sigma\n",
    "    zs_bins['zp_bias']=zp_bias\n",
    "    if use_window:\n",
    "        zs_bins=set_window(zs_bins=zs_bins,nside=nside, unit_win=unit_win)\n",
    "    return zs_bins"
   ]
  },
  {
   "cell_type": "code",
   "execution_count": 12,
   "metadata": {},
   "outputs": [],
   "source": [
    "def DESI_elg_bins(nz_bins=1, f_sky=0.3,nside=256,use_window=use_window,mask_start_pix=0,bg1=1,\n",
    "                       l=None,sigma_gamma=0,mag_fact=0,z_bins=None,**kwargs):\n",
    "\n",
    "    home='../../'\n",
    "    fname='nz_blanc+abacus.txt'\n",
    "#     t=np.genfromtxt(home+fname,names=True,skip_header=3)\n",
    "    #t=np.genfromtxt(home+fname,names=True)\n",
    "    t = pd.read_csv(home + fname)\n",
    "    dz=t['Redshift_mid'][2]-t['Redshift_mid'][1]\n",
    "    zmax=max(t['Redshift_mid'])+dz/2\n",
    "    zmin=min(t['Redshift_mid'])-dz/2\n",
    "\n",
    "    z=t['Redshift_mid']\n",
    "    \n",
    "    pz=t['dndz/deg^2']\n",
    "    \n",
    "    ns=np.sum(pz)\n",
    "    ns/=d2r**2 #convert from deg**2 to rd**2\n",
    "\n",
    "    if z_bins is None: #this defines the bin edges if splitting the sample into bins. Preferably pass it as an argument whenusing multiple bins.\n",
    "        z_bins=np.linspace(zmin, min(2,zmax), nz_bins+1)\n",
    "    print(zmin,zmax,z_bins,ns)\n",
    "    return source_tomo_bins(zp=z,p_zp=pz,ns=ns,nz_bins=nz_bins,mag_fact=mag_fact,\n",
    "                            ztrue_func=None,zp_bias=0,\n",
    "                            zp_sigma=0,z_bins=z_bins,f_sky=f_sky,nside=nside,\n",
    "                            use_window=use_window,mask_start_pix=mask_start_pix,bg1=bg1,\n",
    "                            l=l,sigma_gamma=sigma_gamma,**kwargs)"
   ]
  },
  {
   "cell_type": "code",
   "execution_count": 18,
   "metadata": {},
   "outputs": [],
   "source": [
    "#read nz of blanc\n",
    "nz_blanc = pd.read_csv(\"../../nz_blanc+abacus.txt\")"
   ]
  },
  {
   "cell_type": "code",
   "execution_count": 19,
   "metadata": {},
   "outputs": [
    {
     "data": {
      "text/html": [
       "<div>\n",
       "<style scoped>\n",
       "    .dataframe tbody tr th:only-of-type {\n",
       "        vertical-align: middle;\n",
       "    }\n",
       "\n",
       "    .dataframe tbody tr th {\n",
       "        vertical-align: top;\n",
       "    }\n",
       "\n",
       "    .dataframe thead th {\n",
       "        text-align: right;\n",
       "    }\n",
       "</style>\n",
       "<table border=\"1\" class=\"dataframe\">\n",
       "  <thead>\n",
       "    <tr style=\"text-align: right;\">\n",
       "      <th></th>\n",
       "      <th>Unnamed: 0</th>\n",
       "      <th>Unnamed: 0.1</th>\n",
       "      <th>Redshift_Ledge</th>\n",
       "      <th>Redshift_mid</th>\n",
       "      <th>Bin_width</th>\n",
       "      <th>dndz/deg^2</th>\n",
       "      <th>abacus_area_deg2</th>\n",
       "    </tr>\n",
       "  </thead>\n",
       "  <tbody>\n",
       "    <tr>\n",
       "      <th>0</th>\n",
       "      <td>1</td>\n",
       "      <td>1</td>\n",
       "      <td>0.4375</td>\n",
       "      <td>0.450</td>\n",
       "      <td>0.025</td>\n",
       "      <td>150.937039</td>\n",
       "      <td>5285.933669</td>\n",
       "    </tr>\n",
       "    <tr>\n",
       "      <th>1</th>\n",
       "      <td>2</td>\n",
       "      <td>2</td>\n",
       "      <td>0.4625</td>\n",
       "      <td>0.500</td>\n",
       "      <td>0.075</td>\n",
       "      <td>125.780866</td>\n",
       "      <td>5273.252466</td>\n",
       "    </tr>\n",
       "    <tr>\n",
       "      <th>2</th>\n",
       "      <td>3</td>\n",
       "      <td>3</td>\n",
       "      <td>0.5375</td>\n",
       "      <td>0.575</td>\n",
       "      <td>0.075</td>\n",
       "      <td>53.906085</td>\n",
       "      <td>5261.318760</td>\n",
       "    </tr>\n",
       "    <tr>\n",
       "      <th>3</th>\n",
       "      <td>4</td>\n",
       "      <td>4</td>\n",
       "      <td>0.6125</td>\n",
       "      <td>0.650</td>\n",
       "      <td>0.075</td>\n",
       "      <td>190.468169</td>\n",
       "      <td>5251.584921</td>\n",
       "    </tr>\n",
       "    <tr>\n",
       "      <th>4</th>\n",
       "      <td>5</td>\n",
       "      <td>5</td>\n",
       "      <td>0.6875</td>\n",
       "      <td>0.725</td>\n",
       "      <td>0.075</td>\n",
       "      <td>1067.340493</td>\n",
       "      <td>5243.562454</td>\n",
       "    </tr>\n",
       "    <tr>\n",
       "      <th>5</th>\n",
       "      <td>6</td>\n",
       "      <td>6</td>\n",
       "      <td>0.7625</td>\n",
       "      <td>0.800</td>\n",
       "      <td>0.075</td>\n",
       "      <td>2023.275075</td>\n",
       "      <td>5233.464702</td>\n",
       "    </tr>\n",
       "    <tr>\n",
       "      <th>6</th>\n",
       "      <td>7</td>\n",
       "      <td>7</td>\n",
       "      <td>0.8375</td>\n",
       "      <td>0.875</td>\n",
       "      <td>0.075</td>\n",
       "      <td>2177.805854</td>\n",
       "      <td>4999.475535</td>\n",
       "    </tr>\n",
       "    <tr>\n",
       "      <th>7</th>\n",
       "      <td>8</td>\n",
       "      <td>8</td>\n",
       "      <td>0.9125</td>\n",
       "      <td>0.950</td>\n",
       "      <td>0.075</td>\n",
       "      <td>2192.180810</td>\n",
       "      <td>4706.044051</td>\n",
       "    </tr>\n",
       "    <tr>\n",
       "      <th>8</th>\n",
       "      <td>9</td>\n",
       "      <td>9</td>\n",
       "      <td>0.9875</td>\n",
       "      <td>1.025</td>\n",
       "      <td>0.075</td>\n",
       "      <td>1588.432652</td>\n",
       "      <td>4444.643423</td>\n",
       "    </tr>\n",
       "    <tr>\n",
       "      <th>9</th>\n",
       "      <td>10</td>\n",
       "      <td>10</td>\n",
       "      <td>1.0625</td>\n",
       "      <td>1.100</td>\n",
       "      <td>0.075</td>\n",
       "      <td>1318.902225</td>\n",
       "      <td>4225.404186</td>\n",
       "    </tr>\n",
       "    <tr>\n",
       "      <th>10</th>\n",
       "      <td>11</td>\n",
       "      <td>11</td>\n",
       "      <td>1.1375</td>\n",
       "      <td>1.175</td>\n",
       "      <td>0.075</td>\n",
       "      <td>1326.089703</td>\n",
       "      <td>4024.219598</td>\n",
       "    </tr>\n",
       "    <tr>\n",
       "      <th>11</th>\n",
       "      <td>12</td>\n",
       "      <td>12</td>\n",
       "      <td>1.2125</td>\n",
       "      <td>1.250</td>\n",
       "      <td>0.075</td>\n",
       "      <td>1013.434407</td>\n",
       "      <td>3862.544102</td>\n",
       "    </tr>\n",
       "    <tr>\n",
       "      <th>12</th>\n",
       "      <td>13</td>\n",
       "      <td>13</td>\n",
       "      <td>1.2875</td>\n",
       "      <td>1.325</td>\n",
       "      <td>0.075</td>\n",
       "      <td>945.153366</td>\n",
       "      <td>3713.687506</td>\n",
       "    </tr>\n",
       "    <tr>\n",
       "      <th>13</th>\n",
       "      <td>14</td>\n",
       "      <td>14</td>\n",
       "      <td>1.3625</td>\n",
       "      <td>1.400</td>\n",
       "      <td>0.075</td>\n",
       "      <td>830.153717</td>\n",
       "      <td>3559.923009</td>\n",
       "    </tr>\n",
       "  </tbody>\n",
       "</table>\n",
       "</div>"
      ],
      "text/plain": [
       "    Unnamed: 0  Unnamed: 0.1  Redshift_Ledge  Redshift_mid  Bin_width  \\\n",
       "0            1             1          0.4375         0.450      0.025   \n",
       "1            2             2          0.4625         0.500      0.075   \n",
       "2            3             3          0.5375         0.575      0.075   \n",
       "3            4             4          0.6125         0.650      0.075   \n",
       "4            5             5          0.6875         0.725      0.075   \n",
       "5            6             6          0.7625         0.800      0.075   \n",
       "6            7             7          0.8375         0.875      0.075   \n",
       "7            8             8          0.9125         0.950      0.075   \n",
       "8            9             9          0.9875         1.025      0.075   \n",
       "9           10            10          1.0625         1.100      0.075   \n",
       "10          11            11          1.1375         1.175      0.075   \n",
       "11          12            12          1.2125         1.250      0.075   \n",
       "12          13            13          1.2875         1.325      0.075   \n",
       "13          14            14          1.3625         1.400      0.075   \n",
       "\n",
       "     dndz/deg^2  abacus_area_deg2  \n",
       "0    150.937039       5285.933669  \n",
       "1    125.780866       5273.252466  \n",
       "2     53.906085       5261.318760  \n",
       "3    190.468169       5251.584921  \n",
       "4   1067.340493       5243.562454  \n",
       "5   2023.275075       5233.464702  \n",
       "6   2177.805854       4999.475535  \n",
       "7   2192.180810       4706.044051  \n",
       "8   1588.432652       4444.643423  \n",
       "9   1318.902225       4225.404186  \n",
       "10  1326.089703       4024.219598  \n",
       "11  1013.434407       3862.544102  \n",
       "12   945.153366       3713.687506  \n",
       "13   830.153717       3559.923009  "
      ]
     },
     "execution_count": 19,
     "metadata": {},
     "output_type": "execute_result"
    }
   ],
   "source": [
    "nz_blanc"
   ]
  },
  {
   "cell_type": "code",
   "execution_count": 48,
   "metadata": {},
   "outputs": [
    {
     "name": "stdout",
     "output_type": "stream",
     "text": [
      "0.41250000000000003 1.4374999999999996 [0.4125 1.4375] 49254768.398856655\n"
     ]
    }
   ],
   "source": [
    "zl_bin=DESI_elg_bins(f_sky = 0.04404143492380778,\n",
    "                    nside = 2048)\n",
    "#zl_bin=None #set this to None because we only want CMB lensing Cls "
   ]
  },
  {
   "cell_type": "code",
   "execution_count": 49,
   "metadata": {},
   "outputs": [
    {
     "data": {
      "text/plain": [
       "dict_keys(['SN', 0, 'n_bins', 'z_lens_kernel', 'zmax', 'zp', 'pz', 'z_bins', 'zp_sigma', 'zp_bias'])"
      ]
     },
     "execution_count": 49,
     "metadata": {},
     "output_type": "execute_result"
    }
   ],
   "source": [
    "zl_bin.keys()"
   ]
  },
  {
   "cell_type": "code",
   "execution_count": 50,
   "metadata": {},
   "outputs": [
    {
     "data": {
      "text/plain": [
       "dict_keys(['z', 'dz', 'nz', 'ns', 'W', 'pz', 'pzdz', 'Norm', 'b1', 'AI', 'AI_z', 'mag_fact', 'shear_m_bias', 'lm', 'window', 'window_alm', 'window_alm_noise'])"
      ]
     },
     "execution_count": 50,
     "metadata": {},
     "output_type": "execute_result"
    }
   ],
   "source": [
    "zl_bin[0].keys()"
   ]
  },
  {
   "cell_type": "code",
   "execution_count": 54,
   "metadata": {},
   "outputs": [
    {
     "name": "stderr",
     "output_type": "stream",
     "text": [
      "06:54:15 DEBUG:locator: <healpy.projaxes.BoundaryLocator object at 0x7effc73cc910>\n",
      "06:54:15 DEBUG:Using fixed locator on colorbar\n",
      "06:54:15 DEBUG:Setting pcolormesh\n"
     ]
    },
    {
     "data": {
      "image/png": "[encoded data removed]",
      "text/plain": [
       "<Figure size 612x388.8 with 2 Axes>"
      ]
     },
     "metadata": {
      "needs_background": "light"
     },
     "output_type": "display_data"
    }
   ],
   "source": [
    "if use_window:\n",
    "    hp.mollview(zl_bin[0]['window'])"
   ]
  },
  {
   "cell_type": "code",
   "execution_count": 55,
   "metadata": {},
   "outputs": [
    {
     "data": {
      "text/plain": [
       "masked_array(data=[1.0, 1.0, 1.0, ..., -1.6375e+30, -1.6375e+30,\n",
       "                   -1.6375e+30],\n",
       "             mask=[False, False, False, ..., False, False, False],\n",
       "       fill_value=-1.6375e+30)"
      ]
     },
     "execution_count": 55,
     "metadata": {},
     "output_type": "execute_result"
    }
   ],
   "source": [
    "zl_bin[0]['window']"
   ]
  },
  {
   "cell_type": "code",
   "execution_count": 56,
   "metadata": {},
   "outputs": [
    {
     "data": {
      "text/plain": [
       "[]"
      ]
     },
     "execution_count": 56,
     "metadata": {},
     "output_type": "execute_result"
    },
    {
     "name": "stderr",
     "output_type": "stream",
     "text": [
      "06:54:42 DEBUG:vmin 0.6465185261832657 vmax 9501.661207243844\n",
      "06:54:42 DEBUG:ticklocs array([1.e-02, 1.e-01, 1.e+00, 1.e+01, 1.e+02, 1.e+03, 1.e+04, 1.e+05])\n",
      "06:54:42 DEBUG:vmin 7.39789030815191e-13 vmax 0.07722923949494856\n",
      "06:54:42 DEBUG:ticklocs array([1.e-15, 1.e-13, 1.e-11, 1.e-09, 1.e-07, 1.e-05, 1.e-03, 1.e-01,\n",
      "       1.e+01])\n",
      "06:54:42 DEBUG:vmin 0.6465185261832657 vmax 9501.661207243844\n",
      "06:54:42 DEBUG:ticklocs array([1.e-02, 1.e-01, 1.e+00, 1.e+01, 1.e+02, 1.e+03, 1.e+04, 1.e+05])\n",
      "06:54:42 DEBUG:vmin 0.6465185261832657 vmax 9501.661207243844\n",
      "06:54:42 DEBUG:ticklocs array([1.e-02, 1.e-01, 1.e+00, 1.e+01, 1.e+02, 1.e+03, 1.e+04, 1.e+05])\n",
      "06:54:42 DEBUG:vmin 0.6465185261832657 vmax 9501.661207243844\n",
      "06:54:42 DEBUG:ticklocs array([2.e-02, 3.e-02, 4.e-02, 5.e-02, 6.e-02, 7.e-02, 8.e-02, 9.e-02,\n",
      "       2.e-01, 3.e-01, 4.e-01, 5.e-01, 6.e-01, 7.e-01, 8.e-01, 9.e-01,\n",
      "       2.e+00, 3.e+00, 4.e+00, 5.e+00, 6.e+00, 7.e+00, 8.e+00, 9.e+00,\n",
      "       2.e+01, 3.e+01, 4.e+01, 5.e+01, 6.e+01, 7.e+01, 8.e+01, 9.e+01,\n",
      "       2.e+02, 3.e+02, 4.e+02, 5.e+02, 6.e+02, 7.e+02, 8.e+02, 9.e+02,\n",
      "       2.e+03, 3.e+03, 4.e+03, 5.e+03, 6.e+03, 7.e+03, 8.e+03, 9.e+03,\n",
      "       2.e+04, 3.e+04, 4.e+04, 5.e+04, 6.e+04, 7.e+04, 8.e+04, 9.e+04,\n",
      "       2.e+05, 3.e+05, 4.e+05, 5.e+05, 6.e+05, 7.e+05, 8.e+05, 9.e+05])\n",
      "06:54:43 DEBUG:vmin 0.6465185261832657 vmax 9501.661207243844\n",
      "06:54:43 DEBUG:ticklocs array([1.e-02, 1.e-01, 1.e+00, 1.e+01, 1.e+02, 1.e+03, 1.e+04, 1.e+05])\n",
      "06:54:43 DEBUG:vmin 0.6465185261832657 vmax 9501.661207243844\n",
      "06:54:43 DEBUG:ticklocs array([1.e-02, 1.e-01, 1.e+00, 1.e+01, 1.e+02, 1.e+03, 1.e+04, 1.e+05])\n",
      "06:54:43 DEBUG:vmin 0.6465185261832657 vmax 9501.661207243844\n",
      "06:54:43 DEBUG:ticklocs array([2.e-02, 3.e-02, 4.e-02, 5.e-02, 6.e-02, 7.e-02, 8.e-02, 9.e-02,\n",
      "       2.e-01, 3.e-01, 4.e-01, 5.e-01, 6.e-01, 7.e-01, 8.e-01, 9.e-01,\n",
      "       2.e+00, 3.e+00, 4.e+00, 5.e+00, 6.e+00, 7.e+00, 8.e+00, 9.e+00,\n",
      "       2.e+01, 3.e+01, 4.e+01, 5.e+01, 6.e+01, 7.e+01, 8.e+01, 9.e+01,\n",
      "       2.e+02, 3.e+02, 4.e+02, 5.e+02, 6.e+02, 7.e+02, 8.e+02, 9.e+02,\n",
      "       2.e+03, 3.e+03, 4.e+03, 5.e+03, 6.e+03, 7.e+03, 8.e+03, 9.e+03,\n",
      "       2.e+04, 3.e+04, 4.e+04, 5.e+04, 6.e+04, 7.e+04, 8.e+04, 9.e+04,\n",
      "       2.e+05, 3.e+05, 4.e+05, 5.e+05, 6.e+05, 7.e+05, 8.e+05, 9.e+05])\n",
      "06:54:43 DEBUG:vmin 7.39789030815191e-13 vmax 0.07722923949494856\n",
      "06:54:43 DEBUG:ticklocs array([1.e-15, 1.e-13, 1.e-11, 1.e-09, 1.e-07, 1.e-05, 1.e-03, 1.e-01,\n",
      "       1.e+01])\n",
      "06:54:43 DEBUG:vmin 7.39789030815191e-13 vmax 0.07722923949494856\n",
      "06:54:43 DEBUG:ticklocs array([1.e-15, 1.e-13, 1.e-11, 1.e-09, 1.e-07, 1.e-05, 1.e-03, 1.e-01,\n",
      "       1.e+01])\n",
      "06:54:43 DEBUG:vmin 7.39789030815191e-13 vmax 0.07722923949494856\n",
      "06:54:43 DEBUG:ticklocs array([], dtype=float64)\n",
      "06:54:43 DEBUG:vmin 7.39789030815191e-13 vmax 0.07722923949494856\n",
      "06:54:43 DEBUG:ticklocs array([1.e-15, 1.e-13, 1.e-11, 1.e-09, 1.e-07, 1.e-05, 1.e-03, 1.e-01,\n",
      "       1.e+01])\n",
      "06:54:43 DEBUG:vmin 7.39789030815191e-13 vmax 0.07722923949494856\n",
      "06:54:43 DEBUG:ticklocs array([1.e-15, 1.e-13, 1.e-11, 1.e-09, 1.e-07, 1.e-05, 1.e-03, 1.e-01,\n",
      "       1.e+01])\n",
      "06:54:43 DEBUG:vmin 7.39789030815191e-13 vmax 0.07722923949494856\n",
      "06:54:43 DEBUG:ticklocs array([], dtype=float64)\n",
      "06:54:43 DEBUG:vmin 0.6465185261832657 vmax 9501.661207243844\n",
      "06:54:43 DEBUG:ticklocs array([1.e-02, 1.e-01, 1.e+00, 1.e+01, 1.e+02, 1.e+03, 1.e+04, 1.e+05])\n",
      "06:54:43 DEBUG:vmin 0.6465185261832657 vmax 9501.661207243844\n",
      "06:54:43 DEBUG:ticklocs array([1.e-02, 1.e-01, 1.e+00, 1.e+01, 1.e+02, 1.e+03, 1.e+04, 1.e+05])\n",
      "06:54:43 DEBUG:vmin 0.6465185261832657 vmax 9501.661207243844\n",
      "06:54:43 DEBUG:ticklocs array([2.e-02, 3.e-02, 4.e-02, 5.e-02, 6.e-02, 7.e-02, 8.e-02, 9.e-02,\n",
      "       2.e-01, 3.e-01, 4.e-01, 5.e-01, 6.e-01, 7.e-01, 8.e-01, 9.e-01,\n",
      "       2.e+00, 3.e+00, 4.e+00, 5.e+00, 6.e+00, 7.e+00, 8.e+00, 9.e+00,\n",
      "       2.e+01, 3.e+01, 4.e+01, 5.e+01, 6.e+01, 7.e+01, 8.e+01, 9.e+01,\n",
      "       2.e+02, 3.e+02, 4.e+02, 5.e+02, 6.e+02, 7.e+02, 8.e+02, 9.e+02,\n",
      "       2.e+03, 3.e+03, 4.e+03, 5.e+03, 6.e+03, 7.e+03, 8.e+03, 9.e+03,\n",
      "       2.e+04, 3.e+04, 4.e+04, 5.e+04, 6.e+04, 7.e+04, 8.e+04, 9.e+04,\n",
      "       2.e+05, 3.e+05, 4.e+05, 5.e+05, 6.e+05, 7.e+05, 8.e+05, 9.e+05])\n",
      "06:54:43 DEBUG:vmin 0.6465185261832657 vmax 9501.661207243844\n",
      "06:54:43 DEBUG:ticklocs array([1.e-02, 1.e-01, 1.e+00, 1.e+01, 1.e+02, 1.e+03, 1.e+04, 1.e+05])\n",
      "06:54:43 DEBUG:vmin 0.6465185261832657 vmax 9501.661207243844\n",
      "06:54:43 DEBUG:ticklocs array([1.e-02, 1.e-01, 1.e+00, 1.e+01, 1.e+02, 1.e+03, 1.e+04, 1.e+05])\n",
      "06:54:43 DEBUG:vmin 0.6465185261832657 vmax 9501.661207243844\n",
      "06:54:43 DEBUG:ticklocs array([2.e-02, 3.e-02, 4.e-02, 5.e-02, 6.e-02, 7.e-02, 8.e-02, 9.e-02,\n",
      "       2.e-01, 3.e-01, 4.e-01, 5.e-01, 6.e-01, 7.e-01, 8.e-01, 9.e-01,\n",
      "       2.e+00, 3.e+00, 4.e+00, 5.e+00, 6.e+00, 7.e+00, 8.e+00, 9.e+00,\n",
      "       2.e+01, 3.e+01, 4.e+01, 5.e+01, 6.e+01, 7.e+01, 8.e+01, 9.e+01,\n",
      "       2.e+02, 3.e+02, 4.e+02, 5.e+02, 6.e+02, 7.e+02, 8.e+02, 9.e+02,\n",
      "       2.e+03, 3.e+03, 4.e+03, 5.e+03, 6.e+03, 7.e+03, 8.e+03, 9.e+03,\n",
      "       2.e+04, 3.e+04, 4.e+04, 5.e+04, 6.e+04, 7.e+04, 8.e+04, 9.e+04,\n",
      "       2.e+05, 3.e+05, 4.e+05, 5.e+05, 6.e+05, 7.e+05, 8.e+05, 9.e+05])\n",
      "06:54:43 DEBUG:vmin 7.39789030815191e-13 vmax 0.07722923949494856\n",
      "06:54:43 DEBUG:ticklocs array([1.e-15, 1.e-13, 1.e-11, 1.e-09, 1.e-07, 1.e-05, 1.e-03, 1.e-01,\n",
      "       1.e+01])\n",
      "06:54:43 DEBUG:vmin 7.39789030815191e-13 vmax 0.07722923949494856\n",
      "06:54:43 DEBUG:ticklocs array([1.e-15, 1.e-13, 1.e-11, 1.e-09, 1.e-07, 1.e-05, 1.e-03, 1.e-01,\n",
      "       1.e+01])\n",
      "06:54:43 DEBUG:vmin 7.39789030815191e-13 vmax 0.07722923949494856\n",
      "06:54:43 DEBUG:ticklocs array([], dtype=float64)\n",
      "06:54:43 DEBUG:vmin 7.39789030815191e-13 vmax 0.07722923949494856\n",
      "06:54:43 DEBUG:ticklocs array([1.e-15, 1.e-13, 1.e-11, 1.e-09, 1.e-07, 1.e-05, 1.e-03, 1.e-01,\n",
      "       1.e+01])\n",
      "06:54:43 DEBUG:vmin 7.39789030815191e-13 vmax 0.07722923949494856\n",
      "06:54:43 DEBUG:ticklocs array([1.e-15, 1.e-13, 1.e-11, 1.e-09, 1.e-07, 1.e-05, 1.e-03, 1.e-01,\n",
      "       1.e+01])\n",
      "06:54:43 DEBUG:vmin 7.39789030815191e-13 vmax 0.07722923949494856\n",
      "06:54:43 DEBUG:ticklocs array([], dtype=float64)\n",
      "06:54:43 DEBUG:vmin 0.6465185261832657 vmax 9501.661207243844\n",
      "06:54:43 DEBUG:ticklocs array([1.e-02, 1.e-01, 1.e+00, 1.e+01, 1.e+02, 1.e+03, 1.e+04, 1.e+05])\n",
      "06:54:43 DEBUG:vmin 0.6465185261832657 vmax 9501.661207243844\n",
      "06:54:43 DEBUG:ticklocs array([1.e-02, 1.e-01, 1.e+00, 1.e+01, 1.e+02, 1.e+03, 1.e+04, 1.e+05])\n",
      "06:54:43 DEBUG:vmin 0.6465185261832657 vmax 9501.661207243844\n",
      "06:54:43 DEBUG:ticklocs array([2.e-02, 3.e-02, 4.e-02, 5.e-02, 6.e-02, 7.e-02, 8.e-02, 9.e-02,\n",
      "       2.e-01, 3.e-01, 4.e-01, 5.e-01, 6.e-01, 7.e-01, 8.e-01, 9.e-01,\n",
      "       2.e+00, 3.e+00, 4.e+00, 5.e+00, 6.e+00, 7.e+00, 8.e+00, 9.e+00,\n",
      "       2.e+01, 3.e+01, 4.e+01, 5.e+01, 6.e+01, 7.e+01, 8.e+01, 9.e+01,\n",
      "       2.e+02, 3.e+02, 4.e+02, 5.e+02, 6.e+02, 7.e+02, 8.e+02, 9.e+02,\n",
      "       2.e+03, 3.e+03, 4.e+03, 5.e+03, 6.e+03, 7.e+03, 8.e+03, 9.e+03,\n",
      "       2.e+04, 3.e+04, 4.e+04, 5.e+04, 6.e+04, 7.e+04, 8.e+04, 9.e+04,\n",
      "       2.e+05, 3.e+05, 4.e+05, 5.e+05, 6.e+05, 7.e+05, 8.e+05, 9.e+05])\n",
      "06:54:43 DEBUG:vmin 0.6465185261832657 vmax 9501.661207243844\n",
      "06:54:43 DEBUG:ticklocs array([1.e-02, 1.e-01, 1.e+00, 1.e+01, 1.e+02, 1.e+03, 1.e+04, 1.e+05])\n",
      "06:54:43 DEBUG:vmin 0.6465185261832657 vmax 9501.661207243844\n",
      "06:54:43 DEBUG:ticklocs array([1.e-02, 1.e-01, 1.e+00, 1.e+01, 1.e+02, 1.e+03, 1.e+04, 1.e+05])\n",
      "06:54:43 DEBUG:vmin 0.6465185261832657 vmax 9501.661207243844\n",
      "06:54:43 DEBUG:ticklocs array([2.e-02, 3.e-02, 4.e-02, 5.e-02, 6.e-02, 7.e-02, 8.e-02, 9.e-02,\n",
      "       2.e-01, 3.e-01, 4.e-01, 5.e-01, 6.e-01, 7.e-01, 8.e-01, 9.e-01,\n",
      "       2.e+00, 3.e+00, 4.e+00, 5.e+00, 6.e+00, 7.e+00, 8.e+00, 9.e+00,\n",
      "       2.e+01, 3.e+01, 4.e+01, 5.e+01, 6.e+01, 7.e+01, 8.e+01, 9.e+01,\n",
      "       2.e+02, 3.e+02, 4.e+02, 5.e+02, 6.e+02, 7.e+02, 8.e+02, 9.e+02,\n",
      "       2.e+03, 3.e+03, 4.e+03, 5.e+03, 6.e+03, 7.e+03, 8.e+03, 9.e+03,\n",
      "       2.e+04, 3.e+04, 4.e+04, 5.e+04, 6.e+04, 7.e+04, 8.e+04, 9.e+04,\n",
      "       2.e+05, 3.e+05, 4.e+05, 5.e+05, 6.e+05, 7.e+05, 8.e+05, 9.e+05])\n",
      "06:54:43 DEBUG:vmin 7.39789030815191e-13 vmax 0.07722923949494856\n",
      "06:54:43 DEBUG:ticklocs array([1.e-15, 1.e-13, 1.e-11, 1.e-09, 1.e-07, 1.e-05, 1.e-03, 1.e-01,\n",
      "       1.e+01])\n"
     ]
    },
    {
     "name": "stderr",
     "output_type": "stream",
     "text": [
      "06:54:43 DEBUG:vmin 7.39789030815191e-13 vmax 0.07722923949494856\n",
      "06:54:43 DEBUG:ticklocs array([1.e-15, 1.e-13, 1.e-11, 1.e-09, 1.e-07, 1.e-05, 1.e-03, 1.e-01,\n",
      "       1.e+01])\n",
      "06:54:43 DEBUG:vmin 7.39789030815191e-13 vmax 0.07722923949494856\n",
      "06:54:43 DEBUG:ticklocs array([], dtype=float64)\n",
      "06:54:43 DEBUG:vmin 7.39789030815191e-13 vmax 0.07722923949494856\n",
      "06:54:43 DEBUG:ticklocs array([1.e-15, 1.e-13, 1.e-11, 1.e-09, 1.e-07, 1.e-05, 1.e-03, 1.e-01,\n",
      "       1.e+01])\n",
      "06:54:43 DEBUG:vmin 7.39789030815191e-13 vmax 0.07722923949494856\n",
      "06:54:43 DEBUG:ticklocs array([1.e-15, 1.e-13, 1.e-11, 1.e-09, 1.e-07, 1.e-05, 1.e-03, 1.e-01,\n",
      "       1.e+01])\n",
      "06:54:43 DEBUG:vmin 7.39789030815191e-13 vmax 0.07722923949494856\n",
      "06:54:43 DEBUG:ticklocs array([], dtype=float64)\n",
      "06:54:43 DEBUG:vmin 0.6465185261832657 vmax 9501.661207243844\n",
      "06:54:43 DEBUG:ticklocs array([1.e-02, 1.e-01, 1.e+00, 1.e+01, 1.e+02, 1.e+03, 1.e+04, 1.e+05])\n",
      "06:54:43 DEBUG:vmin 0.6465185261832657 vmax 9501.661207243844\n",
      "06:54:43 DEBUG:ticklocs array([1.e-02, 1.e-01, 1.e+00, 1.e+01, 1.e+02, 1.e+03, 1.e+04, 1.e+05])\n",
      "06:54:43 DEBUG:vmin 0.6465185261832657 vmax 9501.661207243844\n",
      "06:54:43 DEBUG:ticklocs array([2.e-02, 3.e-02, 4.e-02, 5.e-02, 6.e-02, 7.e-02, 8.e-02, 9.e-02,\n",
      "       2.e-01, 3.e-01, 4.e-01, 5.e-01, 6.e-01, 7.e-01, 8.e-01, 9.e-01,\n",
      "       2.e+00, 3.e+00, 4.e+00, 5.e+00, 6.e+00, 7.e+00, 8.e+00, 9.e+00,\n",
      "       2.e+01, 3.e+01, 4.e+01, 5.e+01, 6.e+01, 7.e+01, 8.e+01, 9.e+01,\n",
      "       2.e+02, 3.e+02, 4.e+02, 5.e+02, 6.e+02, 7.e+02, 8.e+02, 9.e+02,\n",
      "       2.e+03, 3.e+03, 4.e+03, 5.e+03, 6.e+03, 7.e+03, 8.e+03, 9.e+03,\n",
      "       2.e+04, 3.e+04, 4.e+04, 5.e+04, 6.e+04, 7.e+04, 8.e+04, 9.e+04,\n",
      "       2.e+05, 3.e+05, 4.e+05, 5.e+05, 6.e+05, 7.e+05, 8.e+05, 9.e+05])\n",
      "06:54:43 DEBUG:vmin 0.6465185261832657 vmax 9501.661207243844\n",
      "06:54:43 DEBUG:ticklocs array([1.e-02, 1.e-01, 1.e+00, 1.e+01, 1.e+02, 1.e+03, 1.e+04, 1.e+05])\n",
      "06:54:43 DEBUG:vmin 0.6465185261832657 vmax 9501.661207243844\n",
      "06:54:43 DEBUG:ticklocs array([1.e-02, 1.e-01, 1.e+00, 1.e+01, 1.e+02, 1.e+03, 1.e+04, 1.e+05])\n",
      "06:54:43 DEBUG:vmin 0.6465185261832657 vmax 9501.661207243844\n",
      "06:54:43 DEBUG:ticklocs array([2.e-02, 3.e-02, 4.e-02, 5.e-02, 6.e-02, 7.e-02, 8.e-02, 9.e-02,\n",
      "       2.e-01, 3.e-01, 4.e-01, 5.e-01, 6.e-01, 7.e-01, 8.e-01, 9.e-01,\n",
      "       2.e+00, 3.e+00, 4.e+00, 5.e+00, 6.e+00, 7.e+00, 8.e+00, 9.e+00,\n",
      "       2.e+01, 3.e+01, 4.e+01, 5.e+01, 6.e+01, 7.e+01, 8.e+01, 9.e+01,\n",
      "       2.e+02, 3.e+02, 4.e+02, 5.e+02, 6.e+02, 7.e+02, 8.e+02, 9.e+02,\n",
      "       2.e+03, 3.e+03, 4.e+03, 5.e+03, 6.e+03, 7.e+03, 8.e+03, 9.e+03,\n",
      "       2.e+04, 3.e+04, 4.e+04, 5.e+04, 6.e+04, 7.e+04, 8.e+04, 9.e+04,\n",
      "       2.e+05, 3.e+05, 4.e+05, 5.e+05, 6.e+05, 7.e+05, 8.e+05, 9.e+05])\n",
      "06:54:43 DEBUG:vmin 7.39789030815191e-13 vmax 0.07722923949494856\n",
      "06:54:43 DEBUG:ticklocs array([1.e-15, 1.e-13, 1.e-11, 1.e-09, 1.e-07, 1.e-05, 1.e-03, 1.e-01,\n",
      "       1.e+01])\n",
      "06:54:43 DEBUG:vmin 7.39789030815191e-13 vmax 0.07722923949494856\n",
      "06:54:43 DEBUG:ticklocs array([1.e-15, 1.e-13, 1.e-11, 1.e-09, 1.e-07, 1.e-05, 1.e-03, 1.e-01,\n",
      "       1.e+01])\n",
      "06:54:43 DEBUG:vmin 7.39789030815191e-13 vmax 0.07722923949494856\n",
      "06:54:43 DEBUG:ticklocs array([], dtype=float64)\n",
      "06:54:43 DEBUG:vmin 7.39789030815191e-13 vmax 0.07722923949494856\n",
      "06:54:43 DEBUG:ticklocs array([1.e-15, 1.e-13, 1.e-11, 1.e-09, 1.e-07, 1.e-05, 1.e-03, 1.e-01,\n",
      "       1.e+01])\n",
      "06:54:43 DEBUG:vmin 7.39789030815191e-13 vmax 0.07722923949494856\n",
      "06:54:43 DEBUG:ticklocs array([1.e-15, 1.e-13, 1.e-11, 1.e-09, 1.e-07, 1.e-05, 1.e-03, 1.e-01,\n",
      "       1.e+01])\n",
      "06:54:43 DEBUG:vmin 7.39789030815191e-13 vmax 0.07722923949494856\n",
      "06:54:43 DEBUG:ticklocs array([], dtype=float64)\n",
      "06:54:43 DEBUG:vmin 0.6465185261832657 vmax 9501.661207243844\n",
      "06:54:43 DEBUG:ticklocs array([1.e-02, 1.e-01, 1.e+00, 1.e+01, 1.e+02, 1.e+03, 1.e+04, 1.e+05])\n",
      "06:54:43 DEBUG:vmin 0.6465185261832657 vmax 9501.661207243844\n",
      "06:54:43 DEBUG:ticklocs array([1.e-02, 1.e-01, 1.e+00, 1.e+01, 1.e+02, 1.e+03, 1.e+04, 1.e+05])\n",
      "06:54:43 DEBUG:vmin 0.6465185261832657 vmax 9501.661207243844\n",
      "06:54:43 DEBUG:ticklocs array([2.e-02, 3.e-02, 4.e-02, 5.e-02, 6.e-02, 7.e-02, 8.e-02, 9.e-02,\n",
      "       2.e-01, 3.e-01, 4.e-01, 5.e-01, 6.e-01, 7.e-01, 8.e-01, 9.e-01,\n",
      "       2.e+00, 3.e+00, 4.e+00, 5.e+00, 6.e+00, 7.e+00, 8.e+00, 9.e+00,\n",
      "       2.e+01, 3.e+01, 4.e+01, 5.e+01, 6.e+01, 7.e+01, 8.e+01, 9.e+01,\n",
      "       2.e+02, 3.e+02, 4.e+02, 5.e+02, 6.e+02, 7.e+02, 8.e+02, 9.e+02,\n",
      "       2.e+03, 3.e+03, 4.e+03, 5.e+03, 6.e+03, 7.e+03, 8.e+03, 9.e+03,\n",
      "       2.e+04, 3.e+04, 4.e+04, 5.e+04, 6.e+04, 7.e+04, 8.e+04, 9.e+04,\n",
      "       2.e+05, 3.e+05, 4.e+05, 5.e+05, 6.e+05, 7.e+05, 8.e+05, 9.e+05])\n",
      "06:54:43 DEBUG:vmin 0.6465185261832657 vmax 9501.661207243844\n",
      "06:54:43 DEBUG:ticklocs array([1.e-02, 1.e-01, 1.e+00, 1.e+01, 1.e+02, 1.e+03, 1.e+04, 1.e+05])\n",
      "06:54:43 DEBUG:vmin 0.6465185261832657 vmax 9501.661207243844\n",
      "06:54:43 DEBUG:ticklocs array([1.e-02, 1.e-01, 1.e+00, 1.e+01, 1.e+02, 1.e+03, 1.e+04, 1.e+05])\n",
      "06:54:43 DEBUG:vmin 0.6465185261832657 vmax 9501.661207243844\n",
      "06:54:43 DEBUG:ticklocs array([2.e-02, 3.e-02, 4.e-02, 5.e-02, 6.e-02, 7.e-02, 8.e-02, 9.e-02,\n",
      "       2.e-01, 3.e-01, 4.e-01, 5.e-01, 6.e-01, 7.e-01, 8.e-01, 9.e-01,\n",
      "       2.e+00, 3.e+00, 4.e+00, 5.e+00, 6.e+00, 7.e+00, 8.e+00, 9.e+00,\n",
      "       2.e+01, 3.e+01, 4.e+01, 5.e+01, 6.e+01, 7.e+01, 8.e+01, 9.e+01,\n",
      "       2.e+02, 3.e+02, 4.e+02, 5.e+02, 6.e+02, 7.e+02, 8.e+02, 9.e+02,\n",
      "       2.e+03, 3.e+03, 4.e+03, 5.e+03, 6.e+03, 7.e+03, 8.e+03, 9.e+03,\n",
      "       2.e+04, 3.e+04, 4.e+04, 5.e+04, 6.e+04, 7.e+04, 8.e+04, 9.e+04,\n",
      "       2.e+05, 3.e+05, 4.e+05, 5.e+05, 6.e+05, 7.e+05, 8.e+05, 9.e+05])\n",
      "06:54:43 DEBUG:vmin 7.39789030815191e-13 vmax 0.07722923949494856\n",
      "06:54:43 DEBUG:ticklocs array([1.e-15, 1.e-13, 1.e-11, 1.e-09, 1.e-07, 1.e-05, 1.e-03, 1.e-01,\n",
      "       1.e+01])\n",
      "06:54:43 DEBUG:vmin 7.39789030815191e-13 vmax 0.07722923949494856\n",
      "06:54:43 DEBUG:ticklocs array([1.e-15, 1.e-13, 1.e-11, 1.e-09, 1.e-07, 1.e-05, 1.e-03, 1.e-01,\n",
      "       1.e+01])\n",
      "06:54:43 DEBUG:vmin 7.39789030815191e-13 vmax 0.07722923949494856\n",
      "06:54:43 DEBUG:ticklocs array([], dtype=float64)\n",
      "06:54:43 DEBUG:vmin 7.39789030815191e-13 vmax 0.07722923949494856\n",
      "06:54:43 DEBUG:ticklocs array([1.e-15, 1.e-13, 1.e-11, 1.e-09, 1.e-07, 1.e-05, 1.e-03, 1.e-01,\n",
      "       1.e+01])\n",
      "06:54:43 DEBUG:vmin 7.39789030815191e-13 vmax 0.07722923949494856\n",
      "06:54:43 DEBUG:ticklocs array([1.e-15, 1.e-13, 1.e-11, 1.e-09, 1.e-07, 1.e-05, 1.e-03, 1.e-01,\n",
      "       1.e+01])\n",
      "06:54:43 DEBUG:vmin 7.39789030815191e-13 vmax 0.07722923949494856\n",
      "06:54:43 DEBUG:ticklocs array([], dtype=float64)\n"
     ]
    },
    {
     "data": {
      "image/png": "[encoded data removed]",
      "text/plain": [
       "<Figure size 432x288 with 1 Axes>"
      ]
     },
     "metadata": {
      "needs_background": "light"
     },
     "output_type": "display_data"
    }
   ],
   "source": [
    "window_cl=hp.anafast(zl_bin[0]['window'])\n",
    "plt.plot(window_cl)\n",
    "plt.loglog()"
   ]
  },
  {
   "cell_type": "code",
   "execution_count": 57,
   "metadata": {},
   "outputs": [],
   "source": [
    "zs_bin=cmb_bins_here(l=l, nside = 2048)# lensing source bin"
   ]
  },
  {
   "cell_type": "code",
   "execution_count": 58,
   "metadata": {},
   "outputs": [],
   "source": [
    "#win = kappa0.Win.Win"
   ]
  },
  {
   "cell_type": "raw",
   "metadata": {},
   "source": [
    "import skylens\n",
    "reload(skylens)\n",
    "from skylens import *"
   ]
  },
  {
   "cell_type": "code",
   "execution_count": 59,
   "metadata": {},
   "outputs": [],
   "source": [
    "store_win=True"
   ]
  },
  {
   "cell_type": "code",
   "execution_count": 60,
   "metadata": {},
   "outputs": [],
   "source": [
    "f_sky=0.04404143492380778 #FIXME: use the correct value. If you are using window, then this is not very important."
   ]
  },
  {
   "cell_type": "raw",
   "metadata": {},
   "source": [
    "??skylens"
   ]
  },
  {
   "cell_type": "code",
   "execution_count": 68,
   "metadata": {},
   "outputs": [],
   "source": [
    "corr_ll=('kappa','kappa')\n",
    "corr_gg=('galaxy','galaxy')\n",
    "corr_gl=('galaxy','kappa')\n",
    "corrs=[corr_ll, corr_gl]\n",
    "zl_bin=None"
   ]
  },
  {
   "cell_type": "raw",
   "metadata": {},
   "source": [
    "??Skylens"
   ]
  },
  {
   "cell_type": "code",
   "execution_count": 66,
   "metadata": {},
   "outputs": [
    {
     "data": {
      "text/html": [
       "<table style=\"border: 2px solid white;\">\n",
       "<tr>\n",
       "<td style=\"vertical-align: top; border: 0px solid white\">\n",
       "<h3 style=\"text-align: left;\">Client</h3>\n",
       "<ul style=\"text-align: left; list-style: none; margin: 0; padding: 0;\">\n",
       "  <li><b>Scheduler: </b>inproc://10.0.0.147/48267/1</li>\n",
       "  <li><b>Dashboard: </b><a href='http://10.0.0.147:8787/status' target='_blank'>http://10.0.0.147:8787/status</a></li>\n",
       "</ul>\n",
       "</td>\n",
       "<td style=\"vertical-align: top; border: 0px solid white\">\n",
       "<h3 style=\"text-align: left;\">Cluster</h3>\n",
       "<ul style=\"text-align: left; list-style:none; margin: 0; padding: 0;\">\n",
       "  <li><b>Workers: </b>1</li>\n",
       "  <li><b>Cores: </b>4</li>\n",
       "  <li><b>Memory: </b>150.00 GB</li>\n",
       "</ul>\n",
       "</td>\n",
       "</tr>\n",
       "</table>"
      ],
      "text/plain": [
       "<Client: 'inproc://10.0.0.147/48267/1' processes=1 threads=4, memory=150.00 GB>"
      ]
     },
     "execution_count": 66,
     "metadata": {},
     "output_type": "execute_result"
    }
   ],
   "source": [
    "client"
   ]
  },
  {
   "cell_type": "code",
   "execution_count": 64,
   "metadata": {},
   "outputs": [],
   "source": [
    "?? Skylens.set_WT_spins"
   ]
  },
  {
   "cell_type": "code",
   "execution_count": null,
   "metadata": {
    "scrolled": false
   },
   "outputs": [
    {
     "name": "stdout",
     "output_type": "stream",
     "text": [
      "ok\n",
      "Win gen: step size 228 True False 924 2049.0\n",
      "wigner_files: {0: '../temp/dask_wig3j_l1500_w2100_0_reorder.zarr'}\n",
      "wigner done dict_keys([0])\n",
      "setting windows, coupling matrices  <Client: 'inproc://10.0.0.147/48267/1' processes=1 threads=4, memory=150.00 GB> {'type': 'Scheduler', 'id': 'Scheduler-45e36b4d-02a9-4084-9962-6e32e5da5fa1', 'address': 'inproc://10.0.0.147/48267/1', 'services': {'dashboard': 8787}, 'workers': {'inproc://10.0.0.147/48267/3': {'type': 'Worker', 'id': 0, 'host': '10.0.0.147', 'resources': {}, 'local_directory': '/home/tkarim/SkyLens/notebooks/dask-worker-space/worker-7t8b7l8e', 'name': 0, 'nthreads': 4, 'memory_limit': 150000000000, 'last_seen': 1616698962.6186397, 'services': {'dashboard': 34079}, 'metrics': {'cpu': 26.0, 'memory': 11535368192, 'time': 1616698962.618196, 'read_bytes': 195439896.90548298, 'write_bytes': 279563.87476048333, 'num_fds': 64, 'executing': 0, 'in_memory': 0, 'ready': 0, 'in_flight': 0, 'bandwidth': {'total': 100000000, 'workers': {}, 'types': {}}}, 'nanny': None}}}\n"
     ]
    }
   ],
   "source": [
    "#use all ell\n",
    "kappa0=Skylens(zk_bins=zs_bin,do_cov=do_cov,bin_cl=bin_cl,l_bins=l_bins,l=l0, zg_bins=zl_bin,\n",
    "                                       use_window=use_window,Tri_cov=Tri_cov, #Win = win,\n",
    "                                       use_binned_l=use_binned_l,wigner_files=wigner_files,\n",
    "                                       SSV_cov=SSV_cov,tidal_SSV_cov=tidal_SSV_cov,f_sky=f_sky,\n",
    "                                       store_win=store_win,window_lmax=window_lmax,\n",
    "                                       corrs=corrs, scheduler_info=client.scheduler_info(),\n",
    "                                       power_spectra_kwargs={'cosmo_params':cosmo_params})"
   ]
  },
  {
   "cell_type": "raw",
   "metadata": {},
   "source": [
    "dask.visualize(kappa0.Win.Win) #cool compute graph is you set store_win=False"
   ]
  },
  {
   "cell_type": "code",
   "execution_count": 32,
   "metadata": {},
   "outputs": [
    {
     "name": "stderr",
     "output_type": "stream",
     "text": [
      "/home/tkarim/SkyLens/skylens/tracer_utils.py:273: RuntimeWarning: invalid value encountered in true_divide\n",
      "  z_bins[i]['gkernel_int']/=np.sum(pz_zl*dzl)\n"
     ]
    },
    {
     "name": "stdout",
     "output_type": "stream",
     "text": [
      "cl dict done\n",
      "CPU times: user 11 s, sys: 13.4 s, total: 24.4 s\n",
      "Wall time: 5.22 s\n"
     ]
    }
   ],
   "source": [
    "%time cl0G=kappa0.cl_tomo() "
   ]
  },
  {
   "cell_type": "code",
   "execution_count": 33,
   "metadata": {},
   "outputs": [
    {
     "data": {
      "text/plain": [
       "dict_keys(['stack', 'cl_b', 'cov', 'cl', 'pseudo_cl', 'pseudo_cl_b'])"
      ]
     },
     "execution_count": 33,
     "metadata": {},
     "output_type": "execute_result"
    }
   ],
   "source": [
    "cl0G.keys()"
   ]
  },
  {
   "cell_type": "code",
   "execution_count": 34,
   "metadata": {},
   "outputs": [
    {
     "name": "stderr",
     "output_type": "stream",
     "text": [
      "06:33:23 DEBUG:run ['dot', '-Tpng']\n"
     ]
    },
    {
     "ename": "ExecutableNotFound",
     "evalue": "failed to execute ['dot', '-Tpng'], make sure the Graphviz executables are on your systems' PATH",
     "output_type": "error",
     "traceback": [
      "\u001b[0;31m---------------------------------------------------------------------------\u001b[0m",
      "\u001b[0;31mFileNotFoundError\u001b[0m                         Traceback (most recent call last)",
      "\u001b[0;32m~/anaconda3/lib/python3.8/site-packages/graphviz/backend.py\u001b[0m in \u001b[0;36mrun\u001b[0;34m(cmd, input, capture_output, check, encoding, quiet, **kwargs)\u001b[0m\n\u001b[1;32m    163\u001b[0m     \u001b[0;32mtry\u001b[0m\u001b[0;34m:\u001b[0m\u001b[0;34m\u001b[0m\u001b[0;34m\u001b[0m\u001b[0m\n\u001b[0;32m--> 164\u001b[0;31m         \u001b[0mproc\u001b[0m \u001b[0;34m=\u001b[0m \u001b[0msubprocess\u001b[0m\u001b[0;34m.\u001b[0m\u001b[0mPopen\u001b[0m\u001b[0;34m(\u001b[0m\u001b[0mcmd\u001b[0m\u001b[0;34m,\u001b[0m \u001b[0mstartupinfo\u001b[0m\u001b[0;34m=\u001b[0m\u001b[0mget_startupinfo\u001b[0m\u001b[0;34m(\u001b[0m\u001b[0;34m)\u001b[0m\u001b[0;34m,\u001b[0m \u001b[0;34m**\u001b[0m\u001b[0mkwargs\u001b[0m\u001b[0;34m)\u001b[0m\u001b[0;34m\u001b[0m\u001b[0;34m\u001b[0m\u001b[0m\n\u001b[0m\u001b[1;32m    165\u001b[0m     \u001b[0;32mexcept\u001b[0m \u001b[0mOSError\u001b[0m \u001b[0;32mas\u001b[0m \u001b[0me\u001b[0m\u001b[0;34m:\u001b[0m\u001b[0;34m\u001b[0m\u001b[0;34m\u001b[0m\u001b[0m\n",
      "\u001b[0;32m~/anaconda3/lib/python3.8/subprocess.py\u001b[0m in \u001b[0;36m__init__\u001b[0;34m(self, args, bufsize, executable, stdin, stdout, stderr, preexec_fn, close_fds, shell, cwd, env, universal_newlines, startupinfo, creationflags, restore_signals, start_new_session, pass_fds, encoding, errors, text)\u001b[0m\n\u001b[1;32m    853\u001b[0m \u001b[0;34m\u001b[0m\u001b[0m\n\u001b[0;32m--> 854\u001b[0;31m             self._execute_child(args, executable, preexec_fn, close_fds,\n\u001b[0m\u001b[1;32m    855\u001b[0m                                 \u001b[0mpass_fds\u001b[0m\u001b[0;34m,\u001b[0m \u001b[0mcwd\u001b[0m\u001b[0;34m,\u001b[0m \u001b[0menv\u001b[0m\u001b[0;34m,\u001b[0m\u001b[0;34m\u001b[0m\u001b[0;34m\u001b[0m\u001b[0m\n",
      "\u001b[0;32m~/anaconda3/lib/python3.8/subprocess.py\u001b[0m in \u001b[0;36m_execute_child\u001b[0;34m(self, args, executable, preexec_fn, close_fds, pass_fds, cwd, env, startupinfo, creationflags, shell, p2cread, p2cwrite, c2pread, c2pwrite, errread, errwrite, restore_signals, start_new_session)\u001b[0m\n\u001b[1;32m   1701\u001b[0m                         \u001b[0merr_msg\u001b[0m \u001b[0;34m=\u001b[0m \u001b[0mos\u001b[0m\u001b[0;34m.\u001b[0m\u001b[0mstrerror\u001b[0m\u001b[0;34m(\u001b[0m\u001b[0merrno_num\u001b[0m\u001b[0;34m)\u001b[0m\u001b[0;34m\u001b[0m\u001b[0;34m\u001b[0m\u001b[0m\n\u001b[0;32m-> 1702\u001b[0;31m                     \u001b[0;32mraise\u001b[0m \u001b[0mchild_exception_type\u001b[0m\u001b[0;34m(\u001b[0m\u001b[0merrno_num\u001b[0m\u001b[0;34m,\u001b[0m \u001b[0merr_msg\u001b[0m\u001b[0;34m,\u001b[0m \u001b[0merr_filename\u001b[0m\u001b[0;34m)\u001b[0m\u001b[0;34m\u001b[0m\u001b[0;34m\u001b[0m\u001b[0m\n\u001b[0m\u001b[1;32m   1703\u001b[0m                 \u001b[0;32mraise\u001b[0m \u001b[0mchild_exception_type\u001b[0m\u001b[0;34m(\u001b[0m\u001b[0merr_msg\u001b[0m\u001b[0;34m)\u001b[0m\u001b[0;34m\u001b[0m\u001b[0;34m\u001b[0m\u001b[0m\n",
      "\u001b[0;31mFileNotFoundError\u001b[0m: [Errno 2] No such file or directory: 'dot'",
      "\nDuring handling of the above exception, another exception occurred:\n",
      "\u001b[0;31mExecutableNotFound\u001b[0m                        Traceback (most recent call last)",
      "\u001b[0;32m<ipython-input-34-012bfc696598>\u001b[0m in \u001b[0;36m<module>\u001b[0;34m\u001b[0m\n\u001b[0;32m----> 1\u001b[0;31m \u001b[0mdask\u001b[0m\u001b[0;34m.\u001b[0m\u001b[0mvisualize\u001b[0m\u001b[0;34m(\u001b[0m\u001b[0mcl0G\u001b[0m\u001b[0;34m[\u001b[0m\u001b[0;34m'stack'\u001b[0m\u001b[0;34m]\u001b[0m\u001b[0;34m)\u001b[0m\u001b[0;34m\u001b[0m\u001b[0;34m\u001b[0m\u001b[0m\n\u001b[0m",
      "\u001b[0;32m~/anaconda3/lib/python3.8/site-packages/dask/base.py\u001b[0m in \u001b[0;36mvisualize\u001b[0;34m(*args, **kwargs)\u001b[0m\n\u001b[1;32m    547\u001b[0m         \u001b[0;32mraise\u001b[0m \u001b[0mNotImplementedError\u001b[0m\u001b[0;34m(\u001b[0m\u001b[0;34m\"Unknown value color=%s\"\u001b[0m \u001b[0;34m%\u001b[0m \u001b[0mcolor\u001b[0m\u001b[0;34m)\u001b[0m\u001b[0;34m\u001b[0m\u001b[0;34m\u001b[0m\u001b[0m\n\u001b[1;32m    548\u001b[0m \u001b[0;34m\u001b[0m\u001b[0m\n\u001b[0;32m--> 549\u001b[0;31m     \u001b[0;32mreturn\u001b[0m \u001b[0mdot_graph\u001b[0m\u001b[0;34m(\u001b[0m\u001b[0mdsk\u001b[0m\u001b[0;34m,\u001b[0m \u001b[0mfilename\u001b[0m\u001b[0;34m=\u001b[0m\u001b[0mfilename\u001b[0m\u001b[0;34m,\u001b[0m \u001b[0;34m**\u001b[0m\u001b[0mkwargs\u001b[0m\u001b[0;34m)\u001b[0m\u001b[0;34m\u001b[0m\u001b[0;34m\u001b[0m\u001b[0m\n\u001b[0m\u001b[1;32m    550\u001b[0m \u001b[0;34m\u001b[0m\u001b[0m\n\u001b[1;32m    551\u001b[0m \u001b[0;34m\u001b[0m\u001b[0m\n",
      "\u001b[0;32m~/anaconda3/lib/python3.8/site-packages/dask/dot.py\u001b[0m in \u001b[0;36mdot_graph\u001b[0;34m(dsk, filename, format, **kwargs)\u001b[0m\n\u001b[1;32m    269\u001b[0m     \"\"\"\n\u001b[1;32m    270\u001b[0m     \u001b[0mg\u001b[0m \u001b[0;34m=\u001b[0m \u001b[0mto_graphviz\u001b[0m\u001b[0;34m(\u001b[0m\u001b[0mdsk\u001b[0m\u001b[0;34m,\u001b[0m \u001b[0;34m**\u001b[0m\u001b[0mkwargs\u001b[0m\u001b[0;34m)\u001b[0m\u001b[0;34m\u001b[0m\u001b[0;34m\u001b[0m\u001b[0m\n\u001b[0;32m--> 271\u001b[0;31m     \u001b[0;32mreturn\u001b[0m \u001b[0mgraphviz_to_file\u001b[0m\u001b[0;34m(\u001b[0m\u001b[0mg\u001b[0m\u001b[0;34m,\u001b[0m \u001b[0mfilename\u001b[0m\u001b[0;34m,\u001b[0m \u001b[0mformat\u001b[0m\u001b[0;34m)\u001b[0m\u001b[0;34m\u001b[0m\u001b[0;34m\u001b[0m\u001b[0m\n\u001b[0m\u001b[1;32m    272\u001b[0m \u001b[0;34m\u001b[0m\u001b[0m\n\u001b[1;32m    273\u001b[0m \u001b[0;34m\u001b[0m\u001b[0m\n",
      "\u001b[0;32m~/anaconda3/lib/python3.8/site-packages/dask/dot.py\u001b[0m in \u001b[0;36mgraphviz_to_file\u001b[0;34m(g, filename, format)\u001b[0m\n\u001b[1;32m    281\u001b[0m         \u001b[0mformat\u001b[0m \u001b[0;34m=\u001b[0m \u001b[0;34m\"png\"\u001b[0m\u001b[0;34m\u001b[0m\u001b[0;34m\u001b[0m\u001b[0m\n\u001b[1;32m    282\u001b[0m \u001b[0;34m\u001b[0m\u001b[0m\n\u001b[0;32m--> 283\u001b[0;31m     \u001b[0mdata\u001b[0m \u001b[0;34m=\u001b[0m \u001b[0mg\u001b[0m\u001b[0;34m.\u001b[0m\u001b[0mpipe\u001b[0m\u001b[0;34m(\u001b[0m\u001b[0mformat\u001b[0m\u001b[0;34m=\u001b[0m\u001b[0mformat\u001b[0m\u001b[0;34m)\u001b[0m\u001b[0;34m\u001b[0m\u001b[0;34m\u001b[0m\u001b[0m\n\u001b[0m\u001b[1;32m    284\u001b[0m     \u001b[0;32mif\u001b[0m \u001b[0;32mnot\u001b[0m \u001b[0mdata\u001b[0m\u001b[0;34m:\u001b[0m\u001b[0;34m\u001b[0m\u001b[0;34m\u001b[0m\u001b[0m\n\u001b[1;32m    285\u001b[0m         raise RuntimeError(\n",
      "\u001b[0;32m~/anaconda3/lib/python3.8/site-packages/graphviz/files.py\u001b[0m in \u001b[0;36mpipe\u001b[0;34m(self, format, renderer, formatter, quiet)\u001b[0m\n\u001b[1;32m    134\u001b[0m         \u001b[0mdata\u001b[0m \u001b[0;34m=\u001b[0m \u001b[0mtext_type\u001b[0m\u001b[0;34m(\u001b[0m\u001b[0mself\u001b[0m\u001b[0;34m.\u001b[0m\u001b[0msource\u001b[0m\u001b[0;34m)\u001b[0m\u001b[0;34m.\u001b[0m\u001b[0mencode\u001b[0m\u001b[0;34m(\u001b[0m\u001b[0mself\u001b[0m\u001b[0;34m.\u001b[0m\u001b[0m_encoding\u001b[0m\u001b[0;34m)\u001b[0m\u001b[0;34m\u001b[0m\u001b[0;34m\u001b[0m\u001b[0m\n\u001b[1;32m    135\u001b[0m \u001b[0;34m\u001b[0m\u001b[0m\n\u001b[0;32m--> 136\u001b[0;31m         out = backend.pipe(self._engine, format, data,\n\u001b[0m\u001b[1;32m    137\u001b[0m                            \u001b[0mrenderer\u001b[0m\u001b[0;34m=\u001b[0m\u001b[0mrenderer\u001b[0m\u001b[0;34m,\u001b[0m \u001b[0mformatter\u001b[0m\u001b[0;34m=\u001b[0m\u001b[0mformatter\u001b[0m\u001b[0;34m,\u001b[0m\u001b[0;34m\u001b[0m\u001b[0;34m\u001b[0m\u001b[0m\n\u001b[1;32m    138\u001b[0m                            quiet=quiet)\n",
      "\u001b[0;32m~/anaconda3/lib/python3.8/site-packages/graphviz/backend.py\u001b[0m in \u001b[0;36mpipe\u001b[0;34m(engine, format, data, renderer, formatter, quiet)\u001b[0m\n\u001b[1;32m    242\u001b[0m     \"\"\"\n\u001b[1;32m    243\u001b[0m     \u001b[0mcmd\u001b[0m\u001b[0;34m,\u001b[0m \u001b[0m_\u001b[0m \u001b[0;34m=\u001b[0m \u001b[0mcommand\u001b[0m\u001b[0;34m(\u001b[0m\u001b[0mengine\u001b[0m\u001b[0;34m,\u001b[0m \u001b[0mformat\u001b[0m\u001b[0;34m,\u001b[0m \u001b[0;32mNone\u001b[0m\u001b[0;34m,\u001b[0m \u001b[0mrenderer\u001b[0m\u001b[0;34m,\u001b[0m \u001b[0mformatter\u001b[0m\u001b[0;34m)\u001b[0m\u001b[0;34m\u001b[0m\u001b[0;34m\u001b[0m\u001b[0m\n\u001b[0;32m--> 244\u001b[0;31m     \u001b[0mout\u001b[0m\u001b[0;34m,\u001b[0m \u001b[0m_\u001b[0m \u001b[0;34m=\u001b[0m \u001b[0mrun\u001b[0m\u001b[0;34m(\u001b[0m\u001b[0mcmd\u001b[0m\u001b[0;34m,\u001b[0m \u001b[0minput\u001b[0m\u001b[0;34m=\u001b[0m\u001b[0mdata\u001b[0m\u001b[0;34m,\u001b[0m \u001b[0mcapture_output\u001b[0m\u001b[0;34m=\u001b[0m\u001b[0;32mTrue\u001b[0m\u001b[0;34m,\u001b[0m \u001b[0mcheck\u001b[0m\u001b[0;34m=\u001b[0m\u001b[0;32mTrue\u001b[0m\u001b[0;34m,\u001b[0m \u001b[0mquiet\u001b[0m\u001b[0;34m=\u001b[0m\u001b[0mquiet\u001b[0m\u001b[0;34m)\u001b[0m\u001b[0;34m\u001b[0m\u001b[0;34m\u001b[0m\u001b[0m\n\u001b[0m\u001b[1;32m    245\u001b[0m     \u001b[0;32mreturn\u001b[0m \u001b[0mout\u001b[0m\u001b[0;34m\u001b[0m\u001b[0;34m\u001b[0m\u001b[0m\n\u001b[1;32m    246\u001b[0m \u001b[0;34m\u001b[0m\u001b[0m\n",
      "\u001b[0;32m~/anaconda3/lib/python3.8/site-packages/graphviz/backend.py\u001b[0m in \u001b[0;36mrun\u001b[0;34m(cmd, input, capture_output, check, encoding, quiet, **kwargs)\u001b[0m\n\u001b[1;32m    165\u001b[0m     \u001b[0;32mexcept\u001b[0m \u001b[0mOSError\u001b[0m \u001b[0;32mas\u001b[0m \u001b[0me\u001b[0m\u001b[0;34m:\u001b[0m\u001b[0;34m\u001b[0m\u001b[0;34m\u001b[0m\u001b[0m\n\u001b[1;32m    166\u001b[0m         \u001b[0;32mif\u001b[0m \u001b[0me\u001b[0m\u001b[0;34m.\u001b[0m\u001b[0merrno\u001b[0m \u001b[0;34m==\u001b[0m \u001b[0merrno\u001b[0m\u001b[0;34m.\u001b[0m\u001b[0mENOENT\u001b[0m\u001b[0;34m:\u001b[0m\u001b[0;34m\u001b[0m\u001b[0;34m\u001b[0m\u001b[0m\n\u001b[0;32m--> 167\u001b[0;31m             \u001b[0;32mraise\u001b[0m \u001b[0mExecutableNotFound\u001b[0m\u001b[0;34m(\u001b[0m\u001b[0mcmd\u001b[0m\u001b[0;34m)\u001b[0m\u001b[0;34m\u001b[0m\u001b[0;34m\u001b[0m\u001b[0m\n\u001b[0m\u001b[1;32m    168\u001b[0m         \u001b[0;32melse\u001b[0m\u001b[0;34m:\u001b[0m\u001b[0;34m\u001b[0m\u001b[0;34m\u001b[0m\u001b[0m\n\u001b[1;32m    169\u001b[0m             \u001b[0;32mraise\u001b[0m\u001b[0;34m\u001b[0m\u001b[0;34m\u001b[0m\u001b[0m\n",
      "\u001b[0;31mExecutableNotFound\u001b[0m: failed to execute ['dot', '-Tpng'], make sure the Graphviz executables are on your systems' PATH"
     ]
    }
   ],
   "source": [
    "dask.visualize(cl0G['stack'])"
   ]
  },
  {
   "cell_type": "code",
   "execution_count": 35,
   "metadata": {},
   "outputs": [
    {
     "data": {
      "text/plain": [
       "array([150., 250., 350., 450., 550., 650., 750., 850., 950.])"
      ]
     },
     "execution_count": 35,
     "metadata": {},
     "output_type": "execute_result"
    }
   ],
   "source": [
    "lb"
   ]
  },
  {
   "cell_type": "code",
   "execution_count": 41,
   "metadata": {},
   "outputs": [
    {
     "data": {
      "text/plain": [
       "{('kappa',\n",
       "  'kappa'): {(0,\n",
       "   0): Delayed('bin_cl_func-9de4a50c-8ae9-467c-af54-ec59e736a4a6')}}"
      ]
     },
     "execution_count": 41,
     "metadata": {},
     "output_type": "execute_result"
    }
   ],
   "source": [
    "cl0G['pseudo_cl_b']"
   ]
  },
  {
   "cell_type": "code",
   "execution_count": 40,
   "metadata": {},
   "outputs": [
    {
     "ename": "KeyError",
     "evalue": "('galaxy', 'galaxy')",
     "output_type": "error",
     "traceback": [
      "\u001b[0;31m---------------------------------------------------------------------------\u001b[0m",
      "\u001b[0;31mKeyError\u001b[0m                                  Traceback (most recent call last)",
      "\u001b[0;32m<ipython-input-40-0c48b66c03cd>\u001b[0m in \u001b[0;36m<module>\u001b[0;34m\u001b[0m\n\u001b[1;32m      1\u001b[0m \u001b[0mbi\u001b[0m\u001b[0;34m=\u001b[0m\u001b[0;34m(\u001b[0m\u001b[0;36m0\u001b[0m\u001b[0;34m,\u001b[0m\u001b[0;36m0\u001b[0m\u001b[0;34m)\u001b[0m \u001b[0;31m#z_bin indexes\u001b[0m\u001b[0;34m\u001b[0m\u001b[0;34m\u001b[0m\u001b[0m\n\u001b[1;32m      2\u001b[0m \u001b[0mplt\u001b[0m\u001b[0;34m.\u001b[0m\u001b[0mplot\u001b[0m\u001b[0;34m(\u001b[0m\u001b[0mcl0G\u001b[0m\u001b[0;34m[\u001b[0m\u001b[0;34m'pseudo_cl_b'\u001b[0m\u001b[0;34m]\u001b[0m\u001b[0;34m[\u001b[0m\u001b[0mcorr_ll\u001b[0m\u001b[0;34m]\u001b[0m\u001b[0;34m[\u001b[0m\u001b[0mbi\u001b[0m\u001b[0;34m]\u001b[0m\u001b[0;34m.\u001b[0m\u001b[0mcompute\u001b[0m\u001b[0;34m(\u001b[0m\u001b[0;34m)\u001b[0m\u001b[0;34m)\u001b[0m\u001b[0;34m\u001b[0m\u001b[0;34m\u001b[0m\u001b[0m\n\u001b[0;32m----> 3\u001b[0;31m \u001b[0mplt\u001b[0m\u001b[0;34m.\u001b[0m\u001b[0mplot\u001b[0m\u001b[0;34m(\u001b[0m\u001b[0mcl0G\u001b[0m\u001b[0;34m[\u001b[0m\u001b[0;34m'pseudo_cl_b'\u001b[0m\u001b[0;34m]\u001b[0m\u001b[0;34m[\u001b[0m\u001b[0mcorr_gg\u001b[0m\u001b[0;34m]\u001b[0m\u001b[0;34m[\u001b[0m\u001b[0mbi\u001b[0m\u001b[0;34m]\u001b[0m\u001b[0;34m.\u001b[0m\u001b[0mcompute\u001b[0m\u001b[0;34m(\u001b[0m\u001b[0;34m)\u001b[0m\u001b[0;34m)\u001b[0m\u001b[0;34m\u001b[0m\u001b[0;34m\u001b[0m\u001b[0m\n\u001b[0m\u001b[1;32m      4\u001b[0m \u001b[0mplt\u001b[0m\u001b[0;34m.\u001b[0m\u001b[0mplot\u001b[0m\u001b[0;34m(\u001b[0m\u001b[0mcl0G\u001b[0m\u001b[0;34m[\u001b[0m\u001b[0;34m'pseudo_cl_b'\u001b[0m\u001b[0;34m]\u001b[0m\u001b[0;34m[\u001b[0m\u001b[0mcorr_gl\u001b[0m\u001b[0;34m]\u001b[0m\u001b[0;34m[\u001b[0m\u001b[0mbi\u001b[0m\u001b[0;34m]\u001b[0m\u001b[0;34m.\u001b[0m\u001b[0mcompute\u001b[0m\u001b[0;34m(\u001b[0m\u001b[0;34m)\u001b[0m\u001b[0;34m)\u001b[0m\u001b[0;34m\u001b[0m\u001b[0;34m\u001b[0m\u001b[0m\n",
      "\u001b[0;31mKeyError\u001b[0m: ('galaxy', 'galaxy')"
     ]
    },
    {
     "data": {
      "image/png": "[encoded data removed]",
      "text/plain": [
       "<Figure size 432x288 with 1 Axes>"
      ]
     },
     "metadata": {
      "needs_background": "light"
     },
     "output_type": "display_data"
    }
   ],
   "source": [
    "bi=(0,0) #z_bin indexes\n",
    "plt.plot(cl0G['pseudo_cl_b'][corr_ll][bi].compute())\n",
    "plt.plot(cl0G['pseudo_cl_b'][corr_gg][bi].compute())\n",
    "plt.plot(cl0G['pseudo_cl_b'][corr_gl][bi].compute())"
   ]
  },
  {
   "cell_type": "code",
   "execution_count": 37,
   "metadata": {
    "scrolled": true
   },
   "outputs": [
    {
     "data": {
      "text/plain": [
       "array([2.82598722e-09, 1.68567360e-09, 1.06196023e-09, 7.44372666e-10,\n",
       "       5.54079317e-10, 4.28528471e-10, 3.47058241e-10, 2.86486526e-10,\n",
       "       2.40970358e-10])"
      ]
     },
     "execution_count": 37,
     "metadata": {},
     "output_type": "execute_result"
    }
   ],
   "source": [
    "cl0G['pseudo_cl_b'][corr_ll][bi].compute()"
   ]
  },
  {
   "cell_type": "markdown",
   "metadata": {},
   "source": [
    "Compare with Abacus"
   ]
  },
  {
   "cell_type": "code",
   "execution_count": 22,
   "metadata": {},
   "outputs": [
    {
     "ename": "NameError",
     "evalue": "name 'cl0G' is not defined",
     "output_type": "error",
     "traceback": [
      "\u001b[0;31m---------------------------------------------------------------------------\u001b[0m",
      "\u001b[0;31mNameError\u001b[0m                                 Traceback (most recent call last)",
      "\u001b[0;32m<ipython-input-22-d1bac2692212>\u001b[0m in \u001b[0;36m<module>\u001b[0;34m\u001b[0m\n\u001b[1;32m      4\u001b[0m \u001b[0;34m\u001b[0m\u001b[0m\n\u001b[1;32m      5\u001b[0m \u001b[0mbi\u001b[0m\u001b[0;34m=\u001b[0m\u001b[0;34m(\u001b[0m\u001b[0;36m0\u001b[0m\u001b[0;34m,\u001b[0m\u001b[0;36m0\u001b[0m\u001b[0;34m)\u001b[0m\u001b[0;34m\u001b[0m\u001b[0;34m\u001b[0m\u001b[0m\n\u001b[0;32m----> 6\u001b[0;31m \u001b[0mcL_skylens\u001b[0m \u001b[0;34m=\u001b[0m \u001b[0mcl0G\u001b[0m\u001b[0;34m[\u001b[0m\u001b[0;34m'pseudo_cl_b'\u001b[0m\u001b[0;34m]\u001b[0m\u001b[0;34m[\u001b[0m\u001b[0mcorr_ll\u001b[0m\u001b[0;34m]\u001b[0m\u001b[0;34m[\u001b[0m\u001b[0mbi\u001b[0m\u001b[0;34m]\u001b[0m\u001b[0;34m.\u001b[0m\u001b[0mcompute\u001b[0m\u001b[0;34m(\u001b[0m\u001b[0;34m)\u001b[0m\u001b[0;34m\u001b[0m\u001b[0;34m\u001b[0m\u001b[0m\n\u001b[0m\u001b[1;32m      7\u001b[0m \u001b[0;31m#cov from skylens\u001b[0m\u001b[0;34m\u001b[0m\u001b[0;34m\u001b[0m\u001b[0;34m\u001b[0m\u001b[0m\n\u001b[1;32m      8\u001b[0m \u001b[0mcov_skylens\u001b[0m \u001b[0;34m=\u001b[0m \u001b[0mcl0G\u001b[0m\u001b[0;34m[\u001b[0m\u001b[0;34m'cov'\u001b[0m\u001b[0;34m]\u001b[0m\u001b[0;34m[\u001b[0m\u001b[0mcorr_ll\u001b[0m\u001b[0;34m+\u001b[0m\u001b[0mcorr_ll\u001b[0m\u001b[0;34m]\u001b[0m\u001b[0;34m[\u001b[0m\u001b[0mbi\u001b[0m\u001b[0;34m+\u001b[0m\u001b[0mbi\u001b[0m\u001b[0;34m]\u001b[0m\u001b[0;34m.\u001b[0m\u001b[0mcompute\u001b[0m\u001b[0;34m(\u001b[0m\u001b[0;34m)\u001b[0m\u001b[0;34m[\u001b[0m\u001b[0;34m'final_b'\u001b[0m\u001b[0;34m]\u001b[0m\u001b[0;34m\u001b[0m\u001b[0;34m\u001b[0m\u001b[0m\n",
      "\u001b[0;31mNameError\u001b[0m: name 'cl0G' is not defined"
     ]
    }
   ],
   "source": [
    "cL_abacus = np.array([2.98436168e-09, 1.59208922e-09, 1.02584562e-09, 6.76985059e-10,\n",
    "       5.34959849e-10, 4.01468676e-10, 3.29359846e-10, 2.69317428e-10,\n",
    "       2.32066641e-10])\n",
    "\n",
    "bi=(0,0)\n",
    "cL_skylens = cl0G['pseudo_cl_b'][corr_ll][bi].compute()\n",
    "#cov from skylens\n",
    "cov_skylens = cl0G['cov'][corr_ll+corr_ll][bi+bi].compute()['final_b']"
   ]
  },
  {
   "cell_type": "code",
   "execution_count": 21,
   "metadata": {
    "scrolled": false
   },
   "outputs": [
    {
     "ename": "NameError",
     "evalue": "name 'cL_skylens' is not defined",
     "output_type": "error",
     "traceback": [
      "\u001b[0;31m---------------------------------------------------------------------------\u001b[0m",
      "\u001b[0;31mNameError\u001b[0m                                 Traceback (most recent call last)",
      "\u001b[0;32m<ipython-input-21-656f7fa421bf>\u001b[0m in \u001b[0;36m<module>\u001b[0;34m\u001b[0m\n\u001b[1;32m      2\u001b[0m \u001b[0;31m#err = np.sqrt(np.diag(cov_skylens))\u001b[0m\u001b[0;34m\u001b[0m\u001b[0;34m\u001b[0m\u001b[0;34m\u001b[0m\u001b[0m\n\u001b[1;32m      3\u001b[0m \u001b[0;31m#plt.errorbar(lb, cL_abacus, yerr = err, label = 'abacus')\u001b[0m\u001b[0;34m\u001b[0m\u001b[0;34m\u001b[0m\u001b[0;34m\u001b[0m\u001b[0m\n\u001b[0;32m----> 4\u001b[0;31m \u001b[0mplt\u001b[0m\u001b[0;34m.\u001b[0m\u001b[0mplot\u001b[0m\u001b[0;34m(\u001b[0m\u001b[0mlb\u001b[0m\u001b[0;34m,\u001b[0m \u001b[0mcL_skylens\u001b[0m\u001b[0;34m,\u001b[0m \u001b[0mlabel\u001b[0m \u001b[0;34m=\u001b[0m \u001b[0;34m'skylens'\u001b[0m\u001b[0;34m)\u001b[0m\u001b[0;34m\u001b[0m\u001b[0;34m\u001b[0m\u001b[0m\n\u001b[0m\u001b[1;32m      5\u001b[0m \u001b[0mplt\u001b[0m\u001b[0;34m.\u001b[0m\u001b[0mxscale\u001b[0m\u001b[0;34m(\u001b[0m\u001b[0;34m'log'\u001b[0m\u001b[0;34m)\u001b[0m\u001b[0;34m\u001b[0m\u001b[0;34m\u001b[0m\u001b[0m\n\u001b[1;32m      6\u001b[0m \u001b[0mplt\u001b[0m\u001b[0;34m.\u001b[0m\u001b[0myscale\u001b[0m\u001b[0;34m(\u001b[0m\u001b[0;34m'log'\u001b[0m\u001b[0;34m)\u001b[0m\u001b[0;34m\u001b[0m\u001b[0;34m\u001b[0m\u001b[0m\n",
      "\u001b[0;31mNameError\u001b[0m: name 'cL_skylens' is not defined"
     ]
    },
    {
     "data": {
      "text/plain": [
       "<Figure size 720x576 with 0 Axes>"
      ]
     },
     "metadata": {},
     "output_type": "display_data"
    }
   ],
   "source": [
    "plt.figure(figsize = (10,8))\n",
    "#err = np.sqrt(np.diag(cov_skylens))\n",
    "#plt.errorbar(lb, cL_abacus, yerr = err, label = 'abacus')\n",
    "plt.plot(lb, cL_skylens, label = 'skylens')\n",
    "plt.xscale('log')\n",
    "plt.yscale('log')\n",
    "plt.legend(loc= 'best')"
   ]
  },
  {
   "cell_type": "code",
   "execution_count": 29,
   "metadata": {},
   "outputs": [
    {
     "data": {
      "text/plain": [
       "<matplotlib.lines.Line2D at 0x7f52b00a7d60>"
      ]
     },
     "execution_count": 29,
     "metadata": {},
     "output_type": "execute_result"
    },
    {
     "data": {
      "image/png": "[encoded data removed]",
      "text/plain": [
       "<Figure size 432x288 with 1 Axes>"
      ]
     },
     "metadata": {
      "needs_background": "light"
     },
     "output_type": "display_data"
    }
   ],
   "source": [
    "plt.errorbar(lb, cL_abacus/cL_skylens, yerr = err/cL_skylens)\n",
    "plt.axhline(1, c = 'red')"
   ]
  },
  {
   "cell_type": "code",
   "execution_count": 30,
   "metadata": {},
   "outputs": [],
   "source": [
    "loss = (cL_abacus - cL_skylens)\n",
    "inv = np.linalg.inv(cov_skylens)\n",
    "chi2 = loss @ inv @ loss"
   ]
  },
  {
   "cell_type": "code",
   "execution_count": 31,
   "metadata": {},
   "outputs": [
    {
     "data": {
      "text/plain": [
       "17.679574745241027"
      ]
     },
     "execution_count": 31,
     "metadata": {},
     "output_type": "execute_result"
    }
   ],
   "source": [
    "chi2"
   ]
  },
  {
   "cell_type": "code",
   "execution_count": 32,
   "metadata": {},
   "outputs": [],
   "source": [
    "corrmat = cov_skylens/np.outer(err, err)"
   ]
  },
  {
   "cell_type": "code",
   "execution_count": 33,
   "metadata": {
    "scrolled": false
   },
   "outputs": [
    {
     "name": "stderr",
     "output_type": "stream",
     "text": [
      "07:10:54 DEBUG:locator: <matplotlib.colorbar._ColorbarAutoLocator object at 0x7f52abf9b970>\n",
      "07:10:54 DEBUG:Using auto colorbar locator on colorbar\n",
      "07:10:54 DEBUG:locator: <matplotlib.colorbar._ColorbarAutoLocator object at 0x7f52abf9b970>\n",
      "07:10:54 DEBUG:Setting pcolormesh\n"
     ]
    },
    {
     "data": {
      "text/plain": [
       "<matplotlib.colorbar.Colorbar at 0x7f52abf9b370>"
      ]
     },
     "execution_count": 33,
     "metadata": {},
     "output_type": "execute_result"
    },
    {
     "data": {
      "image/png": "[encoded data removed]",
      "text/plain": [
       "<Figure size 432x288 with 2 Axes>"
      ]
     },
     "metadata": {
      "needs_background": "light"
     },
     "output_type": "display_data"
    }
   ],
   "source": [
    "plt.pcolor(lb, lb, corrmat, vmin = -1, vmax = 1, cmap = 'seismic')\n",
    "plt.colorbar()\n",
    "#plt.xscale('log')\n",
    "#plt.yscale('log')"
   ]
  },
  {
   "cell_type": "code",
   "execution_count": null,
   "metadata": {},
   "outputs": [],
   "source": []
  }
 ],
 "metadata": {
  "hide_input": false,
  "kernelspec": {
   "display_name": "Python 3",
   "language": "python",
   "name": "python3"
  },
  "language_info": {
   "codemirror_mode": {
    "name": "ipython",
    "version": 3
   },
   "file_extension": ".py",
   "mimetype": "text/x-python",
   "name": "python",
   "nbconvert_exporter": "python",
   "pygments_lexer": "ipython3",
   "version": "3.8.3"
  }
 },
 "nbformat": 4,
 "nbformat_minor": 2
}
